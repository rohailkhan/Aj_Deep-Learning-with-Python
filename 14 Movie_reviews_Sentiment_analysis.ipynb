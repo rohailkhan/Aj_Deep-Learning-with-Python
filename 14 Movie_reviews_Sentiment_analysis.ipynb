{
  "nbformat": 4,
  "nbformat_minor": 0,
  "metadata": {
    "colab": {
      "name": "14_Movie_reviews_Sentiment analysis",
      "provenance": [],
      "include_colab_link": true
    },
    "kernelspec": {
      "name": "python3",
      "display_name": "Python 3"
    },
    "language_info": {
      "name": "python"
    }
  },
  "cells": [
    {
      "cell_type": "markdown",
      "metadata": {
        "id": "view-in-github",
        "colab_type": "text"
      },
      "source": [
        "<a href=\"https://colab.research.google.com/github/rohailkhan/Deep-Learning-with-Python-Jb/blob/master/14_Movie_reviews_Sentiment_analysis.ipynb\" target=\"_parent\"><img src=\"https://colab.research.google.com/assets/colab-badge.svg\" alt=\"Open In Colab\"/></a>"
      ]
    },
    {
      "cell_type": "markdown",
      "metadata": {
        "id": "NpLjzTU0MxNH"
      },
      "source": [
        "# **Imdb Movie Sentiment Analysis**\n"
      ]
    },
    {
      "cell_type": "code",
      "metadata": {
        "id": "TTUsFW32ycvO"
      },
      "source": [
        "# data processing and visualization libs\n",
        "import pandas as pd\n",
        "import numpy as np\n",
        "import matplotlib.pyplot as plt\n",
        "import seaborn as sns\n",
        "from keras.utils.np_utils import to_categorical\n",
        "# Keras deep learning model libraries\n",
        "from keras.models import Sequential \n",
        "from keras.layers import Dense, Activation, Flatten, Dropout, BatchNormalization , Conv1D ,MaxPool2D , MaxPool1D \n",
        "from tensorflow.keras.optimizers import SGD ,Adam\n",
        "# data validation lib\n",
        "from sklearn.model_selection import KFold"
      ],
      "execution_count": 15,
      "outputs": []
    },
    {
      "cell_type": "code",
      "metadata": {
        "id": "nCKrTVxXrOBH"
      },
      "source": [
        "# p='https://raw.githubusercontent.com/Ankit152/IMDB-sentiment-analysis/master/IMDB-Dataset.csv'"
      ],
      "execution_count": null,
      "outputs": []
    },
    {
      "cell_type": "code",
      "metadata": {
        "id": "n19tmUXrg47n"
      },
      "source": [
        "# import datasets\n",
        "from keras.datasets import imdb "
      ],
      "execution_count": 8,
      "outputs": []
    },
    {
      "cell_type": "code",
      "metadata": {
        "id": "Sq3rnLj0sqDB"
      },
      "source": [
        "# load the dataset\n",
        "(X_train, y_train), (X_test, y_test) = imdb.load_data()"
      ],
      "execution_count": 9,
      "outputs": []
    },
    {
      "cell_type": "code",
      "metadata": {
        "colab": {
          "base_uri": "https://localhost:8080/"
        },
        "id": "uKgPqIhbKnSi",
        "outputId": "4ff81eed-0355-4798-85ba-f88272f27349"
      },
      "source": [
        "X_train.shape, y_train.shape, X_test.shape, y_test.shape"
      ],
      "execution_count": 10,
      "outputs": [
        {
          "output_type": "execute_result",
          "data": {
            "text/plain": [
              "((25000,), (25000,), (25000,), (25000,))"
            ]
          },
          "metadata": {},
          "execution_count": 10
        }
      ]
    },
    {
      "cell_type": "code",
      "metadata": {
        "colab": {
          "base_uri": "https://localhost:8080/"
        },
        "id": "SBLQufj1mull",
        "outputId": "20ec0bb4-3b97-47d9-9135-87dc70617536"
      },
      "source": [
        "X = np.concatenate((X_train, X_test), axis=0)\n",
        "y = np.concatenate((y_train, y_test), axis=0)\n",
        "X.shape, y.shape"
      ],
      "execution_count": 12,
      "outputs": [
        {
          "output_type": "execute_result",
          "data": {
            "text/plain": [
              "((50000,), (50000,))"
            ]
          },
          "metadata": {},
          "execution_count": 12
        }
      ]
    },
    {
      "cell_type": "code",
      "metadata": {
        "colab": {
          "base_uri": "https://localhost:8080/"
        },
        "id": "yaEYMC_gu6lJ",
        "outputId": "bab4d3a3-1034-4b64-cf2b-8e5aa87360c7"
      },
      "source": [
        "print(\"Classes: \")\n",
        "print(np.unique(y))"
      ],
      "execution_count": 13,
      "outputs": [
        {
          "output_type": "stream",
          "name": "stdout",
          "text": [
            "Classes: \n",
            "[0 1]\n"
          ]
        }
      ]
    },
    {
      "cell_type": "code",
      "metadata": {
        "colab": {
          "base_uri": "https://localhost:8080/"
        },
        "id": "AEHLcYiRFpeJ",
        "outputId": "57562d3b-a533-41c1-b148-ece40e514d9d"
      },
      "source": [
        "in_arr1 = np.array([[ 1, 2, 3], [ -1, -2, -3]]) # 2, 3 array\n",
        "print (\"1st Input array : \\n\", in_arr1) \n",
        "  \n",
        "in_arr2 = np.array([[ 22, 23, 24], [ 25, 26, 27]] )\n",
        "print (\"2nd Input array : \\n\", in_arr2) \n",
        "  \n",
        "# Stacking the two arrays horizontally\n",
        "out_arr = np.hstack((in_arr1, in_arr2))\n",
        "print (\"Output horizontally stacked array:\\n \", out_arr)"
      ],
      "execution_count": 14,
      "outputs": [
        {
          "output_type": "stream",
          "name": "stdout",
          "text": [
            "1st Input array : \n",
            " [[ 1  2  3]\n",
            " [-1 -2 -3]]\n",
            "2nd Input array : \n",
            " [[22 23 24]\n",
            " [25 26 27]]\n",
            "Output horizontally stacked array:\n",
            "  [[ 1  2  3 22 23 24]\n",
            " [-1 -2 -3 25 26 27]]\n"
          ]
        }
      ]
    },
    {
      "cell_type": "code",
      "metadata": {
        "colab": {
          "base_uri": "https://localhost:8080/"
        },
        "id": "KKpqNz8iItKI",
        "outputId": "bce1e7fe-ca8a-4105-9a53-2537eb9c3173"
      },
      "source": [
        "# Stacking the two arrays horizontally\n",
        "out_arr = np.vstack((in_arr1, in_arr2))\n",
        "print (\"Output vertically stacked array:\\n \", out_arr)"
      ],
      "execution_count": 15,
      "outputs": [
        {
          "output_type": "stream",
          "name": "stdout",
          "text": [
            "Output vertically stacked array:\n",
            "  [[ 1  2  3]\n",
            " [-1 -2 -3]\n",
            " [22 23 24]\n",
            " [25 26 27]]\n"
          ]
        }
      ]
    },
    {
      "cell_type": "code",
      "metadata": {
        "colab": {
          "base_uri": "https://localhost:8080/"
        },
        "id": "93CnfD43JkMt",
        "outputId": "628d9213-18a5-4318-bd38-2cf574f363e7"
      },
      "source": [
        "in_arr1 = np.array([ 1, 2, 3] )\n",
        "print (\"1st Input array : \\n\", in_arr1) \n",
        "  \n",
        "in_arr2 = np.array([ 4, 5, 6] )\n",
        "print (\"2nd Input array : \\n\", in_arr2) \n"
      ],
      "execution_count": null,
      "outputs": [
        {
          "output_type": "stream",
          "name": "stdout",
          "text": [
            "1st Input array : \n",
            " [1 2 3]\n",
            "2nd Input array : \n",
            " [4 5 6]\n"
          ]
        }
      ]
    },
    {
      "cell_type": "code",
      "metadata": {
        "colab": {
          "base_uri": "https://localhost:8080/"
        },
        "id": "hQNUNyDXKJBL",
        "outputId": "f866b595-7667-4aac-e3ec-c5d60367ee16"
      },
      "source": [
        "  \n",
        "# Stacking the two arrays horizontally\n",
        "out_arr = np.hstack((in_arr1, in_arr2))\n",
        "print (\"Output horizontally stacked array:\\n \", out_arr)"
      ],
      "execution_count": 16,
      "outputs": [
        {
          "output_type": "stream",
          "name": "stdout",
          "text": [
            "Output horizontally stacked array:\n",
            "  [[ 1  2  3 22 23 24]\n",
            " [-1 -2 -3 25 26 27]]\n"
          ]
        }
      ]
    },
    {
      "cell_type": "code",
      "metadata": {
        "colab": {
          "base_uri": "https://localhost:8080/"
        },
        "id": "adp8QWu1IL-o",
        "outputId": "7e742614-8982-484b-cdd7-95f98941b562"
      },
      "source": [
        "# number of unique words\n",
        "print(len(np.unique(np.hstack(X))))"
      ],
      "execution_count": null,
      "outputs": [
        {
          "output_type": "stream",
          "name": "stdout",
          "text": [
            "88585\n"
          ]
        }
      ]
    },
    {
      "cell_type": "code",
      "metadata": {
        "colab": {
          "base_uri": "https://localhost:8080/"
        },
        "id": "DnT1xMsQUlS_",
        "outputId": "8834ae5f-f1b0-43c2-d48c-1309f0b21769"
      },
      "source": [
        "print(\"Mean %.2f words (std= %f)\" % (np.mean([len(i) for i in X]), np.std([len(i) for i in X])))"
      ],
      "execution_count": 18,
      "outputs": [
        {
          "output_type": "stream",
          "name": "stdout",
          "text": [
            "Mean 234.76 words (std= 172.911495)\n"
          ]
        }
      ]
    },
    {
      "cell_type": "code",
      "metadata": {
        "id": "kfeYjTMhXn5o"
      },
      "source": [
        "d=[len(i) for i in X]"
      ],
      "execution_count": 19,
      "outputs": []
    },
    {
      "cell_type": "code",
      "metadata": {
        "colab": {
          "base_uri": "https://localhost:8080/",
          "height": 592
        },
        "id": "A7ywp_k8YPSA",
        "outputId": "00522204-8835-467a-bed1-61a8b7877612"
      },
      "source": [
        "fig , axx = plt.subplots(1,2,figsize=(10,10))\n",
        "plt.subplot(121)\n",
        "plt.boxplot(d )\n",
        "plt.subplot(122)\n",
        "plt.hist(d)\n",
        "plt.show()"
      ],
      "execution_count": 20,
      "outputs": [
        {
          "output_type": "display_data",
          "data": {
            "image/png": "[encoded data removed]",
            "text/plain": [
              "<Figure size 720x720 with 2 Axes>"
            ]
          },
          "metadata": {
            "needs_background": "light"
          }
        }
      ]
    },
    {
      "cell_type": "markdown",
      "metadata": {
        "id": "Ay1ntUxzZLkX"
      },
      "source": [
        "## The average review has just under 300 words with a standard deviation of just over 200 words."
      ]
    },
    {
      "cell_type": "code",
      "metadata": {
        "id": "OtIoZpxzZRV6"
      },
      "source": [
        "# load the dataset but only keep the top n words, zero the rest\n",
        "top_words = 5000\n",
        "test_split = 0.33\n",
        "(X_train, y_train), (X_test, y_test) = imdb.load_data(num_words=top_words)"
      ],
      "execution_count": 39,
      "outputs": []
    },
    {
      "cell_type": "code",
      "metadata": {
        "id": "ThKvoPHudQcF"
      },
      "source": [
        "# we will choose only 5000 words"
      ],
      "execution_count": null,
      "outputs": []
    },
    {
      "cell_type": "markdown",
      "metadata": {
        "id": "3pzPlTMCdjnQ"
      },
      "source": [
        "## Pad Sequence\n",
        "We would then use the Keras utility to truncate or pad the dataset to a length of 500 for\n",
        "each observation using the sequence.pad sequences() function."
      ]
    },
    {
      "cell_type": "code",
      "metadata": {
        "id": "AUUC6Yr65Ex1"
      },
      "source": [
        "from keras.preprocessing.sequence import    pad_sequences"
      ],
      "execution_count": 26,
      "outputs": []
    },
    {
      "cell_type": "markdown",
      "metadata": {
        "id": "ZcDwandA5l_0"
      },
      "source": [
        "The **pad_sequences** function transforms a list (of length num_samples) of sequences (lists of integers) into a 2D Numpy array of shape (num_samples, num_timesteps).\n",
        "num_timesteps is either the maxlen argument if provided, or the length of the longest sequence in the list.\n",
        "\n",
        "Sequences that are shorter than num_timesteps are padded with value until they are num_timesteps long.\n",
        "\n",
        "Sequences longer than num_timesteps are truncated so that they fit the desired length."
      ]
    },
    {
      "cell_type": "code",
      "metadata": {
        "colab": {
          "base_uri": "https://localhost:8080/"
        },
        "id": "SGiSBG4g5B2T",
        "outputId": "db39ef43-2624-4a65-f963-f0496433bd8a"
      },
      "source": [
        "sequence = [[1], [2, 3], [4, 5, 6]]\n",
        "pad_sequences(sequence)"
      ],
      "execution_count": 28,
      "outputs": [
        {
          "output_type": "execute_result",
          "data": {
            "text/plain": [
              "array([[0, 0, 1],\n",
              "       [0, 2, 3],\n",
              "       [4, 5, 6]], dtype=int32)"
            ]
          },
          "metadata": {},
          "execution_count": 28
        }
      ]
    },
    {
      "cell_type": "code",
      "metadata": {
        "id": "N4O7pfUEZRPW"
      },
      "source": [
        "X_train = pad_sequences(X_train, maxlen=500)\n",
        "X_test = pad_sequences(X_test, maxlen=500)"
      ],
      "execution_count": 40,
      "outputs": []
    },
    {
      "cell_type": "markdown",
      "metadata": {
        "id": "BWJY9KwvHZAg"
      },
      "source": [
        "**Embedding Layer**\n",
        "https://stackoverflow.com/questions/42762849/keras-embedding-layers-how-do-they-work \n",
        "An embedding is a relatively low-dimensional space into which you can translate high-dimensional vectors\n",
        "\n",
        "The Embedding layer in Keras (also in general) is a way to create dense word encoding. You should think of it as a matrix multiply by One-hot-encoding (OHE) matrix\n",
        "\n",
        "\n",
        "`e = Embedding(1000, 64, input_length=50)`\n",
        "\n",
        "1000 tells we plan to encode 1000 words in total. 64 tells we use 64 dimensional vector space. 50 tells input documents have 50 words each.\n",
        "\n",
        "Embedding layers will fill up randomly with non-zero values and the parameters need to be learned.\n",
        "We will do embedding in the first layer. The embedding layer will convert high dimension data to 32 dimensions"
      ]
    },
    {
      "cell_type": "code",
      "metadata": {
        "id": "jMGKzt3eZRSt"
      },
      "source": [
        "Embedding(5000, 32, input_length=500)"
      ],
      "execution_count": null,
      "outputs": []
    },
    {
      "cell_type": "markdown",
      "metadata": {
        "id": "wEf0V2PIN6uy"
      },
      "source": [
        "# Base Model"
      ]
    },
    {
      "cell_type": "code",
      "metadata": {
        "id": "rXfRwcT-ZRYu",
        "colab": {
          "base_uri": "https://localhost:8080/"
        },
        "outputId": "b670276b-00b0-4d5b-d8a3-a41d4a5a7566"
      },
      "source": [
        "max_words=500\n",
        "top_words =5000\n",
        "model = Sequential()\n",
        "model.add(Embedding(top_words, 32, input_length=max_words))\n",
        "model.add(Flatten())\n",
        "model.add(Dense(250, activation='relu'))\n",
        "model.add(Dense(1, activation='sigmoid'))\n",
        "model.compile(loss='binary_crossentropy', optimizer='adam', metrics=['accuracy'])\n",
        "print(model.summary())"
      ],
      "execution_count": 34,
      "outputs": [
        {
          "output_type": "stream",
          "name": "stdout",
          "text": [
            "Model: \"sequential_1\"\n",
            "_________________________________________________________________\n",
            "Layer (type)                 Output Shape              Param #   \n",
            "=================================================================\n",
            "embedding (Embedding)        (None, 500, 32)           160000    \n",
            "_________________________________________________________________\n",
            "flatten (Flatten)            (None, 16000)             0         \n",
            "_________________________________________________________________\n",
            "dense (Dense)                (None, 250)               4000250   \n",
            "_________________________________________________________________\n",
            "dense_1 (Dense)              (None, 1)                 251       \n",
            "=================================================================\n",
            "Total params: 4,160,501\n",
            "Trainable params: 4,160,501\n",
            "Non-trainable params: 0\n",
            "_________________________________________________________________\n",
            "None\n"
          ]
        }
      ]
    },
    {
      "cell_type": "markdown",
      "metadata": {
        "id": "upMNHfOrOnU1"
      },
      "source": [
        "# All Steps together"
      ]
    },
    {
      "cell_type": "code",
      "metadata": {
        "colab": {
          "base_uri": "https://localhost:8080/"
        },
        "id": "7nzTiSxCOrTQ",
        "outputId": "d98cfc24-5788-4361-b108-6281d87aa31f"
      },
      "source": [
        "# data processing and visualization libs\n",
        "\n",
        "from keras.preprocessing.sequence import    pad_sequences\n",
        "import pandas as pd\n",
        "import numpy as np\n",
        "import matplotlib.pyplot as plt\n",
        "import seaborn as sns\n",
        "from keras.utils.np_utils import to_categorical\n",
        "# Keras deep learning model libraries\n",
        "from keras.models import Sequential \n",
        "from keras.layers import Dense, Activation, Flatten, Dropout, BatchNormalization , Conv2D ,MaxPool2D  ,Embedding\n",
        "from tensorflow.keras.optimizers import SGD ,Adam\n",
        "\n",
        "# import datasets\n",
        "from keras.datasets import imdb \n",
        "# seed\n",
        "seed=7\n",
        "np.random.seed(seed)\n",
        "\n",
        "#start\n",
        "# load the dataset but only keep the top n words, zero the rest\n",
        "top_words = 5000\n",
        "test_split = 0.33\n",
        "(X_train, y_train), (X_test, y_test) = imdb.load_data(num_words=top_words)\n",
        "# 500 Maximum words  sequences\n",
        "\n",
        "X_train = pad_sequences(X_train, maxlen=500)\n",
        "X_test = pad_sequences(X_test, maxlen=500)\n",
        "\n",
        "# base model\n",
        "max_words=500\n",
        "top_words =5000\n",
        "model = Sequential()\n",
        "model.add(Embedding(top_words, 32, input_length=max_words))\n",
        "model.add(Flatten())\n",
        "model.add(Dense(250, activation='relu'))\n",
        "model.add(Dense(1, activation='sigmoid'))\n",
        "model.compile(loss='binary_crossentropy', optimizer='adam', metrics=['accuracy'])\n",
        "print(model.summary())\n",
        "\n"
      ],
      "execution_count": 4,
      "outputs": [
        {
          "output_type": "stream",
          "name": "stdout",
          "text": [
            "Model: \"sequential_1\"\n",
            "_________________________________________________________________\n",
            "Layer (type)                 Output Shape              Param #   \n",
            "=================================================================\n",
            "embedding (Embedding)        (None, 500, 32)           160000    \n",
            "_________________________________________________________________\n",
            "flatten (Flatten)            (None, 16000)             0         \n",
            "_________________________________________________________________\n",
            "dense (Dense)                (None, 250)               4000250   \n",
            "_________________________________________________________________\n",
            "dense_1 (Dense)              (None, 1)                 251       \n",
            "=================================================================\n",
            "Total params: 4,160,501\n",
            "Trainable params: 4,160,501\n",
            "Non-trainable params: 0\n",
            "_________________________________________________________________\n",
            "None\n"
          ]
        }
      ]
    },
    {
      "cell_type": "markdown",
      "metadata": {
        "id": "2b0XrnO4OXv3"
      },
      "source": [
        "# Traing and Evaluate Model"
      ]
    },
    {
      "cell_type": "code",
      "metadata": {
        "id": "3qKUX5pMZRb1",
        "colab": {
          "base_uri": "https://localhost:8080/"
        },
        "outputId": "a4a92dd6-a01a-4111-fbac-b77fe203ab0b"
      },
      "source": [
        "# Fit the model\n",
        "model.fit(X_train, y_train, validation_data=(X_test, y_test), epochs=2, batch_size=128,\n",
        "verbose=1)\n",
        "# Final evaluation of the model\n",
        "scores = model.evaluate(X_test, y_test, verbose=0)\n",
        "print(\"Accuracy: %.2f%%\" % (scores[1]*100))"
      ],
      "execution_count": 6,
      "outputs": [
        {
          "output_type": "stream",
          "name": "stdout",
          "text": [
            "Epoch 1/2\n",
            "196/196 [==============================] - 23s 114ms/step - loss: 0.5523 - accuracy: 0.6758 - val_loss: 0.3122 - val_accuracy: 0.8680\n",
            "Epoch 2/2\n",
            "196/196 [==============================] - 22s 114ms/step - loss: 0.2024 - accuracy: 0.9211 - val_loss: 0.3085 - val_accuracy: 0.8717\n",
            "Accuracy: 87.17%\n"
          ]
        }
      ]
    },
    {
      "cell_type": "markdown",
      "metadata": {
        "id": "c4tRPiplUtHr"
      },
      "source": [
        "# Using CNN Model"
      ]
    },
    {
      "cell_type": "code",
      "metadata": {
        "id": "8MJhzwNZUyJq"
      },
      "source": [
        "# seed\n",
        "seed=7\n",
        "np.random.seed(seed)\n",
        "\n",
        "#start\n",
        "# load the dataset but only keep the top n words, zero the rest\n",
        "top_words = 5000\n",
        "test_split = 0.33\n",
        "(X_train, y_train), (X_test, y_test) = imdb.load_data(num_words=top_words)\n",
        "# 500 Maximum words  sequences\n",
        "\n",
        "X_train = pad_sequences(X_train, maxlen=500)\n",
        "X_test = pad_sequences(X_test, maxlen=500)\n"
      ],
      "execution_count": 10,
      "outputs": []
    },
    {
      "cell_type": "code",
      "metadata": {
        "colab": {
          "base_uri": "https://localhost:8080/"
        },
        "id": "faumqtvqVjS7",
        "outputId": "03f2fdf7-3277-4ff5-887f-cef2485eea6b"
      },
      "source": [
        "# base model\n",
        "max_words=500\n",
        "top_words =5000\n",
        "model = Sequential()\n",
        "model.add(Embedding(top_words, 32, input_length=max_words))\n",
        "model.add(Conv1D(filters=32, kernel_size=3, activation='relu'))\n",
        "model.add(MaxPool1D(pool_size=2))\n",
        "model.add(Flatten())\n",
        "model.add(Dense(250, activation='relu'))\n",
        "model.add(Dense(1, activation='sigmoid'))\n",
        "model.compile(loss='binary_crossentropy', optimizer='adam', metrics=['accuracy'])\n",
        "print(model.summary())"
      ],
      "execution_count": 21,
      "outputs": [
        {
          "output_type": "stream",
          "name": "stdout",
          "text": [
            "Model: \"sequential_10\"\n",
            "_________________________________________________________________\n",
            "Layer (type)                 Output Shape              Param #   \n",
            "=================================================================\n",
            "embedding_9 (Embedding)      (None, 500, 32)           160000    \n",
            "_________________________________________________________________\n",
            "conv1d_3 (Conv1D)            (None, 498, 32)           3104      \n",
            "_________________________________________________________________\n",
            "max_pooling1d_1 (MaxPooling1 (None, 249, 32)           0         \n",
            "_________________________________________________________________\n",
            "flatten_2 (Flatten)          (None, 7968)              0         \n",
            "_________________________________________________________________\n",
            "dense_4 (Dense)              (None, 250)               1992250   \n",
            "_________________________________________________________________\n",
            "dense_5 (Dense)              (None, 1)                 251       \n",
            "=================================================================\n",
            "Total params: 2,155,605\n",
            "Trainable params: 2,155,605\n",
            "Non-trainable params: 0\n",
            "_________________________________________________________________\n",
            "None\n"
          ]
        }
      ]
    },
    {
      "cell_type": "code",
      "metadata": {
        "colab": {
          "base_uri": "https://localhost:8080/"
        },
        "id": "Vr95GBsLXru0",
        "outputId": "3cabddfc-a27e-4647-9b8a-7cc34fb6248b"
      },
      "source": [
        "# Fit the model\n",
        "history=model.fit(X_train, y_train, validation_data=(X_test, y_test), epochs=6, batch_size=128,\n",
        "verbose=1)\n",
        "# Final evaluation of the model\n",
        "scores = model.evaluate(X_test, y_test, verbose=0)\n",
        "print(\"Accuracy: %.2f%%\" % (scores[1]*100))"
      ],
      "execution_count": 22,
      "outputs": [
        {
          "output_type": "stream",
          "name": "stdout",
          "text": [
            "Epoch 1/6\n",
            "196/196 [==============================] - 26s 131ms/step - loss: 0.5263 - accuracy: 0.6848 - val_loss: 0.2872 - val_accuracy: 0.8795\n",
            "Epoch 2/6\n",
            "196/196 [==============================] - 26s 133ms/step - loss: 0.2340 - accuracy: 0.9078 - val_loss: 0.2689 - val_accuracy: 0.8866\n",
            "Epoch 3/6\n",
            "196/196 [==============================] - 26s 134ms/step - loss: 0.1725 - accuracy: 0.9341 - val_loss: 0.2815 - val_accuracy: 0.8861\n",
            "Epoch 4/6\n",
            "196/196 [==============================] - 26s 133ms/step - loss: 0.1259 - accuracy: 0.9550 - val_loss: 0.3261 - val_accuracy: 0.8775\n",
            "Epoch 5/6\n",
            "196/196 [==============================] - 26s 131ms/step - loss: 0.0734 - accuracy: 0.9788 - val_loss: 0.3683 - val_accuracy: 0.8757\n",
            "Epoch 6/6\n",
            "196/196 [==============================] - 26s 132ms/step - loss: 0.0316 - accuracy: 0.9938 - val_loss: 0.4602 - val_accuracy: 0.8727\n",
            "Accuracy: 87.27%\n"
          ]
        }
      ]
    },
    {
      "cell_type": "code",
      "metadata": {
        "colab": {
          "base_uri": "https://localhost:8080/"
        },
        "id": "HKJJuP1MYzhp",
        "outputId": "74cf9705-eb60-4668-b6e8-fc4106bf1320"
      },
      "source": [
        "history1=history.history\n",
        "history1.keys()"
      ],
      "execution_count": 23,
      "outputs": [
        {
          "output_type": "execute_result",
          "data": {
            "text/plain": [
              "dict_keys(['loss', 'accuracy', 'val_loss', 'val_accuracy'])"
            ]
          },
          "metadata": {},
          "execution_count": 23
        }
      ]
    },
    {
      "cell_type": "code",
      "metadata": {
        "colab": {
          "base_uri": "https://localhost:8080/"
        },
        "id": "Yc3kkIhsjTkL",
        "outputId": "d9dde166-cb7d-4b64-b2f9-0a2115b775e0"
      },
      "source": [
        "history1['loss']"
      ],
      "execution_count": 99,
      "outputs": [
        {
          "output_type": "execute_result",
          "data": {
            "text/plain": [
              "[0.526251494884491,\n",
              " 0.2340223491191864,\n",
              " 0.17254240810871124,\n",
              " 0.12585312128067017,\n",
              " 0.07337652146816254,\n",
              " 0.031603582203388214]"
            ]
          },
          "metadata": {},
          "execution_count": 99
        }
      ]
    },
    {
      "cell_type": "code",
      "metadata": {
        "id": "XST2vTBfdtvJ"
      },
      "source": [
        "def result_summary(history,epochs):\n",
        "  if type(history)!=dict:\n",
        "    history1=history.history\n",
        "  else:\n",
        "    history1=history\n",
        "\n",
        "  fig, axx =plt.subplots(2,figsize=(10,10))\n",
        "  axx[0].set_title('Training and Validation Accuracy')\n",
        "  axx[0].plot(range(0,epochs) ,history1['accuracy'] , color='green')\n",
        "  axx[0].plot( range(0,epochs),history1['val_accuracy'] ,color='red')\n",
        " \n",
        "  axx[1].set_title('Training and Validation loss')\n",
        "  axx[1].plot(range(0,epochs),history1['loss']  ,color='green')\n",
        "  axx[1].plot(range(0,epochs),history1['val_loss']   ,color='red')\n",
        "\n",
        "  plt.show()\n",
        "\n",
        "\n"
      ],
      "execution_count": 100,
      "outputs": []
    },
    {
      "cell_type": "code",
      "metadata": {
        "colab": {
          "base_uri": "https://localhost:8080/",
          "height": 607
        },
        "id": "xVRpgMSVgKRI",
        "outputId": "91c7c3de-e538-4e2a-c8d5-7875c0e5742c"
      },
      "source": [
        "result_summary(history1,6)"
      ],
      "execution_count": 101,
      "outputs": [
        {
          "output_type": "display_data",
          "data": {
            "image/png": "[encoded data removed]",
            "text/plain": [
              "<Figure size 720x720 with 2 Axes>"
            ]
          },
          "metadata": {
            "needs_background": "light"
          }
        }
      ]
    },
    {
      "cell_type": "markdown",
      "metadata": {
        "id": "baq8fr-gj_Do"
      },
      "source": [
        "# **saving**"
      ]
    },
    {
      "cell_type": "code",
      "metadata": {
        "id": "L3YUu_WOkBKX"
      },
      "source": [
        "# saving model\n",
        "import os\n",
        "\n",
        "path=os.getcwd()\n",
        "model_path=path +'/digits_model1.h5'\n",
        "# saving model\n",
        "model.save(model_path,overwrite=True)\n",
        "\n",
        "# saving model history \n",
        "\n",
        "import json\n",
        "# # Get the dictionary containing each metric and the loss for each epoch\n",
        "history_dict = history.history\n",
        "\n",
        "# # Save it under the form of a json file\n",
        "history_path=path +'/history_digits_model1.json'\n",
        "json.dump(str(history_dict), open(history_path, 'w'))"
      ],
      "execution_count": 102,
      "outputs": []
    },
    {
      "cell_type": "markdown",
      "metadata": {
        "id": "bnz1J9O7JWtt"
      },
      "source": [
        "# **Loading History of Accuracy and Losses of the Model**"
      ]
    },
    {
      "cell_type": "code",
      "metadata": {
        "id": "ELxyCNhHJXqU"
      },
      "source": [
        "path=os.getcwd()\n",
        "history_path=path +'/history_digits_model1.json'\n",
        "history_loaded= json.load(open(history_path, 'r'))"
      ],
      "execution_count": 103,
      "outputs": []
    },
    {
      "cell_type": "markdown",
      "metadata": {
        "id": "4_egwDz_Jn7v"
      },
      "source": [
        "### The loaded history is in String format.Converting it back to dictionary"
      ]
    },
    {
      "cell_type": "code",
      "metadata": {
        "id": "BlCYYO0xJob2"
      },
      "source": [
        "# The loaded history is in String format.Converting it back to\n",
        "# dictionary\n",
        "import ast\n",
        "history_loaded=ast.literal_eval(history_loaded)"
      ],
      "execution_count": 104,
      "outputs": []
    },
    {
      "cell_type": "markdown",
      "metadata": {
        "id": "3frQijXTkjWJ"
      },
      "source": [
        "# Summary from the loaded History"
      ]
    },
    {
      "cell_type": "code",
      "metadata": {
        "colab": {
          "base_uri": "https://localhost:8080/",
          "height": 607
        },
        "id": "M7NcOrz9WREZ",
        "outputId": "de4a6de5-007c-4eb6-b92b-2128202b68d9"
      },
      "source": [
        "result_summary(history_loaded,6)"
      ],
      "execution_count": 105,
      "outputs": [
        {
          "output_type": "display_data",
          "data": {
            "image/png": "[encoded data removed]",
            "text/plain": [
              "<Figure size 720x720 with 2 Axes>"
            ]
          },
          "metadata": {
            "needs_background": "light"
          }
        }
      ]
    },
    {
      "cell_type": "markdown",
      "metadata": {
        "id": "mfTr7hWclCPT"
      },
      "source": [
        "# **Results : Accuracy: 87.27%**"
      ]
    }
  ]
}
