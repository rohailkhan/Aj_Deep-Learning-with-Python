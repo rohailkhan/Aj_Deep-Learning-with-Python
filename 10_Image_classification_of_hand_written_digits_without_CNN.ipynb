{
  "nbformat": 4,
  "nbformat_minor": 0,
  "metadata": {
    "colab": {
      "name": "10_Image classification of hand written digits without CNN",
      "provenance": [],
      "mount_file_id": "1nm2GG4ma7nNfuvyogVKhx4uSlOPPtYKa",
      "authorship_tag": "ABX9TyOFBgPcf8H5J9R1+ZMF1/PO",
      "include_colab_link": true
    },
    "kernelspec": {
      "name": "python3",
      "display_name": "Python 3"
    },
    "language_info": {
      "name": "python"
    }
  },
  "cells": [
    {
      "cell_type": "markdown",
      "metadata": {
        "id": "view-in-github",
        "colab_type": "text"
      },
      "source": [
        "<a href=\"https://colab.research.google.com/github/rohailkhan/Deep-Learning-with-Python-Jb/blob/master/10_Image_classification_of_hand_written_digits_without_CNN.ipynb\" target=\"_parent\"><img src=\"https://colab.research.google.com/assets/colab-badge.svg\" alt=\"Open In Colab\"/></a>"
      ]
    },
    {
      "cell_type": "markdown",
      "metadata": {
        "id": "NpLjzTU0MxNH"
      },
      "source": [
        "## Image clasification without using Convolution Nueral Network\n",
        "### Only using dense layers"
      ]
    },
    {
      "cell_type": "code",
      "metadata": {
        "id": "TTUsFW32ycvO"
      },
      "source": [
        "# Plot ad hoc mnist instances\n",
        "from keras.datasets import mnist\n"
      ],
      "execution_count": 105,
      "outputs": []
    },
    {
      "cell_type": "code",
      "metadata": {
        "id": "F2dkIiUrD2v2"
      },
      "source": [
        "from keras.models import Sequential\n",
        "import pandas as pd\n",
        "import matplotlib.pyplot as plt\n",
        "from keras.utils.np_utils import to_categorical"
      ],
      "execution_count": 106,
      "outputs": []
    },
    {
      "cell_type": "code",
      "metadata": {
        "id": "KFQ7mZSqxjW6"
      },
      "source": [
        "# load (downloaded if needed) the MNIST dataset\n",
        "(X_train, y_train), (X_test, y_test) = mnist.load_data()"
      ],
      "execution_count": 107,
      "outputs": []
    },
    {
      "cell_type": "code",
      "metadata": {
        "colab": {
          "base_uri": "https://localhost:8080/"
        },
        "id": "sePymWdp6RxB",
        "outputId": "6365ed50-c5a9-4bd2-a80b-a2a011179cdf"
      },
      "source": [
        "X_train.shape , X_test.shape , y_train.shape ,y_test.shape"
      ],
      "execution_count": 108,
      "outputs": [
        {
          "output_type": "execute_result",
          "data": {
            "text/plain": [
              "((60000, 28, 28), (10000, 28, 28), (60000,), (10000,))"
            ]
          },
          "metadata": {},
          "execution_count": 108
        }
      ]
    },
    {
      "cell_type": "code",
      "metadata": {
        "colab": {
          "base_uri": "https://localhost:8080/",
          "height": 268
        },
        "id": "ytGvptXQ6Wdh",
        "outputId": "b54493f8-1058-4b8a-f479-4774db5e270b"
      },
      "source": [
        "plt.subplot(2,2,1)\n",
        "plt.imshow(X_train[0])\n",
        "\n",
        "plt.subplot(2,2,2)\n",
        "plt.imshow(X_train[1])\n",
        "\n",
        "plt.subplot(2,2,3)\n",
        "plt.imshow(X_train[2])\n",
        "plt.subplot(2,2,4)\n",
        "plt.imshow(X_train[3])\n",
        "\n",
        "plt.show()"
      ],
      "execution_count": 109,
      "outputs": [
        {
          "output_type": "display_data",
          "data": {
            "image/png": "[encoded data removed]",
            "text/plain": [
              "<Figure size 432x288 with 4 Axes>"
            ]
          },
          "metadata": {
            "needs_background": "light"
          }
        }
      ]
    },
    {
      "cell_type": "code",
      "metadata": {
        "colab": {
          "base_uri": "https://localhost:8080/"
        },
        "id": "jJq0KGgr8GAN",
        "outputId": "da4ff63b-70ac-4504-d12f-cb8d68c66c94"
      },
      "source": [
        "X_train.shape , X_test.shape , y_train.shape ,y_test.shape"
      ],
      "execution_count": 110,
      "outputs": [
        {
          "output_type": "execute_result",
          "data": {
            "text/plain": [
              "((60000, 28, 28), (10000, 28, 28), (60000,), (10000,))"
            ]
          },
          "metadata": {},
          "execution_count": 110
        }
      ]
    },
    {
      "cell_type": "code",
      "metadata": {
        "colab": {
          "base_uri": "https://localhost:8080/"
        },
        "id": "Mg-My4GQ-6YA",
        "outputId": "623ae1b2-05c1-4b55-9edf-2cf6e7c49325"
      },
      "source": [
        "total_pixels=28*28\n",
        "total_pixels"
      ],
      "execution_count": 111,
      "outputs": [
        {
          "output_type": "execute_result",
          "data": {
            "text/plain": [
              "784"
            ]
          },
          "metadata": {},
          "execution_count": 111
        }
      ]
    },
    {
      "cell_type": "code",
      "metadata": {
        "colab": {
          "base_uri": "https://localhost:8080/"
        },
        "id": "F-Cn5EuC63sq",
        "outputId": "96924a08-d44a-4ea8-e0f1-199770068e54"
      },
      "source": [
        "(X_train.reshape(-1,total_pixels)/255).astype('float').shape , (X_test.reshape(-1,total_pixels)/255).astype('float').shape , to_categorical(y_train).shape ,to_categorical(y_test ).shape\n"
      ],
      "execution_count": 112,
      "outputs": [
        {
          "output_type": "execute_result",
          "data": {
            "text/plain": [
              "((60000, 784), (10000, 784), (60000, 10), (10000, 10))"
            ]
          },
          "metadata": {},
          "execution_count": 112
        }
      ]
    },
    {
      "cell_type": "code",
      "metadata": {
        "id": "12GH9XizCK7K"
      },
      "source": [
        "X_train=(X_train.reshape(-1,total_pixels)/255).astype('float')\n",
        "X_test=(X_test.reshape(-1,total_pixels)/255).astype('float')"
      ],
      "execution_count": 113,
      "outputs": []
    },
    {
      "cell_type": "code",
      "metadata": {
        "id": "uvdSEfipCVkC"
      },
      "source": [
        "y_train=to_categorical(y_train)"
      ],
      "execution_count": 114,
      "outputs": []
    },
    {
      "cell_type": "code",
      "metadata": {
        "id": "bertt85xCdwX"
      },
      "source": [
        "y_test=to_categorical(y_test)"
      ],
      "execution_count": 115,
      "outputs": []
    },
    {
      "cell_type": "code",
      "metadata": {
        "id": "L4HrCrc4AMYd"
      },
      "source": [
        "model=Sequential()\n",
        "model.add(Dense(units=120,input_dim=total_pixels,activation='relu'))\n",
        "model.add(Dense(units=10,activation='softmax'))\n",
        "\n",
        "model.compile(optimizer='adam',\n",
        "              loss='categorical_crossentropy',\n",
        "  metrics=['accuracy'])"
      ],
      "execution_count": 116,
      "outputs": []
    },
    {
      "cell_type": "code",
      "metadata": {
        "colab": {
          "base_uri": "https://localhost:8080/"
        },
        "id": "YhN1Oeu-BOlB",
        "outputId": "2670f41a-3d51-49f2-f470-033715205dfb"
      },
      "source": [
        "model_history=model.fit(X_train,y_train,epochs=10,batch_size=100)"
      ],
      "execution_count": 117,
      "outputs": [
        {
          "output_type": "stream",
          "name": "stdout",
          "text": [
            "Epoch 1/10\n",
            "600/600 [==============================] - 2s 3ms/step - loss: 0.3390 - accuracy: 0.9063\n",
            "Epoch 2/10\n",
            "600/600 [==============================] - 2s 3ms/step - loss: 0.1588 - accuracy: 0.9541\n",
            "Epoch 3/10\n",
            "600/600 [==============================] - 2s 3ms/step - loss: 0.1142 - accuracy: 0.9664\n",
            "Epoch 4/10\n",
            "600/600 [==============================] - 2s 3ms/step - loss: 0.0885 - accuracy: 0.9744\n",
            "Epoch 5/10\n",
            "600/600 [==============================] - 2s 3ms/step - loss: 0.0726 - accuracy: 0.9788\n",
            "Epoch 6/10\n",
            "600/600 [==============================] - 2s 3ms/step - loss: 0.0606 - accuracy: 0.9824\n",
            "Epoch 7/10\n",
            "600/600 [==============================] - 2s 3ms/step - loss: 0.0496 - accuracy: 0.9857\n",
            "Epoch 8/10\n",
            "600/600 [==============================] - 2s 3ms/step - loss: 0.0432 - accuracy: 0.9877\n",
            "Epoch 9/10\n",
            "600/600 [==============================] - 2s 3ms/step - loss: 0.0357 - accuracy: 0.9902\n",
            "Epoch 10/10\n",
            "600/600 [==============================] - 2s 3ms/step - loss: 0.0298 - accuracy: 0.9919\n"
          ]
        }
      ]
    },
    {
      "cell_type": "code",
      "metadata": {
        "colab": {
          "base_uri": "https://localhost:8080/"
        },
        "id": "TzM_KXLPFntr",
        "outputId": "d1ede1d4-e0f9-4fe2-b1b6-34c3b533542e"
      },
      "source": [
        "# evaluate the model\n",
        "scores = model.evaluate(X_test, y_test, verbose=0)\n",
        "print(\"%s: %.2f%%\" % (model.metrics_names[1], scores[1]*100))"
      ],
      "execution_count": 118,
      "outputs": [
        {
          "output_type": "stream",
          "name": "stdout",
          "text": [
            "accuracy: 97.67%\n"
          ]
        }
      ]
    },
    {
      "cell_type": "markdown",
      "metadata": {
        "id": "40VPpqtFHk8q"
      },
      "source": [
        "# Saving the model"
      ]
    },
    {
      "cell_type": "code",
      "metadata": {
        "id": "aMhbYUqGHH3f"
      },
      "source": [
        "path='/content/drive/MyDrive/20210309_Files/'"
      ],
      "execution_count": 119,
      "outputs": []
    },
    {
      "cell_type": "code",
      "metadata": {
        "id": "cqn9Oyx8H14v"
      },
      "source": [
        "model_path=path +'/digits_model1.h5'\n",
        "# saving model\n",
        "model.save(model_path,overwrite=True)"
      ],
      "execution_count": 120,
      "outputs": []
    },
    {
      "cell_type": "markdown",
      "metadata": {
        "id": "88HHwr1IIdrm"
      },
      "source": [
        "# Saving History of loss and accuracy"
      ]
    },
    {
      "cell_type": "code",
      "metadata": {
        "id": "erPyjIptHj9e"
      },
      "source": [
        "import json\n",
        "# # Get the dictionary containing each metric and the loss for each epoch\n",
        "history_dict = model_history.history"
      ],
      "execution_count": 125,
      "outputs": []
    },
    {
      "cell_type": "code",
      "metadata": {
        "id": "z8DkoXRdIq9Y"
      },
      "source": [
        "# # Save it under the form of a json file\n",
        "history_path=path +'/history_digits_model1.json'\n",
        "json.dump(str(history_dict), open(history_path, 'w'))"
      ],
      "execution_count": 126,
      "outputs": []
    },
    {
      "cell_type": "markdown",
      "metadata": {
        "id": "CUINzkelJF7m"
      },
      "source": [
        "# Loading saved model"
      ]
    },
    {
      "cell_type": "code",
      "metadata": {
        "id": "mWZ2sryBJI_m"
      },
      "source": [
        "from keras.models import load_model \n",
        "model_path=path +'/digits_model1.h5'\n",
        "loaded_model = load_model(model_path) "
      ],
      "execution_count": 127,
      "outputs": []
    },
    {
      "cell_type": "code",
      "metadata": {
        "colab": {
          "base_uri": "https://localhost:8080/"
        },
        "id": "ADsW-hH1KWkz",
        "outputId": "05dc551e-89d3-4121-fc06-08d5be3fd54e"
      },
      "source": [
        "# Predict on the first 5 test images.\n",
        "predictions = loaded_model.predict(X_test[:5])\n",
        "\n",
        "# Print our model's predictions.\n",
        "print(np.argmax(predictions, axis=1)) # [7, 2, 1, 0, 4]\n",
        "\n"
      ],
      "execution_count": 128,
      "outputs": [
        {
          "output_type": "stream",
          "name": "stdout",
          "text": [
            "[7 2 1 0 4]\n"
          ]
        }
      ]
    },
    {
      "cell_type": "code",
      "metadata": {
        "colab": {
          "base_uri": "https://localhost:8080/"
        },
        "id": "6pK8hkd_LA9K",
        "outputId": "dcd802ce-b847-45bb-c99a-eba082eefb11"
      },
      "source": [
        "# Check our predictions against the ground truths.\n",
        "print(np.argmax(y_test[:5],axis=1)) # [7, 2, 1, 0, 4]"
      ],
      "execution_count": 129,
      "outputs": [
        {
          "output_type": "stream",
          "name": "stdout",
          "text": [
            "[7 2 1 0 4]\n"
          ]
        }
      ]
    },
    {
      "cell_type": "markdown",
      "metadata": {
        "id": "bnz1J9O7JWtt"
      },
      "source": [
        "# Loading History of Accuracy and Losses of the Model"
      ]
    },
    {
      "cell_type": "code",
      "metadata": {
        "id": "ELxyCNhHJXqU"
      },
      "source": [
        "history_path=path +'/history_digits_model1.json'\n",
        "history= json.load(open(history_path, 'r'))"
      ],
      "execution_count": 96,
      "outputs": []
    },
    {
      "cell_type": "markdown",
      "metadata": {
        "id": "4_egwDz_Jn7v"
      },
      "source": [
        "### The loaded history is in String format.Converting it back to dictionary"
      ]
    },
    {
      "cell_type": "code",
      "metadata": {
        "id": "BlCYYO0xJob2"
      },
      "source": [
        "# The loaded history is in String format.Converting it back to\n",
        "# dictionary\n",
        "import ast\n",
        "history_1=ast.literal_eval(history)"
      ],
      "execution_count": 97,
      "outputs": []
    },
    {
      "cell_type": "code",
      "metadata": {
        "colab": {
          "base_uri": "https://localhost:8080/",
          "height": 545
        },
        "id": "-ex2tS0bJzyd",
        "outputId": "d2b3704d-6d50-4c2f-eb29-786fe60e1e26"
      },
      "source": [
        "### .\n",
        "acc = history_1['accuracy']\n",
        "#acc=np.array(acc)\n",
        "\n",
        "#val_acc=np.array(val_acc)\n",
        "loss = history_1['loss']\n",
        "\n",
        "epochs = range(1, len(acc) + 1)\n",
        "acc=np.array(acc)\n",
        "\n",
        "plt.plot(epochs, np.array(acc), 'r', label='Training acc')\n",
        "\n",
        "plt.title('Training  accuracy')\n",
        "plt.legend()\n",
        "plt.figure()\n",
        "plt.plot(epochs, loss, 'r', label='Training loss')\n",
        "\n",
        "plt.title('Training  loss')\n",
        "plt.legend()\n",
        "plt.show()"
      ],
      "execution_count": 100,
      "outputs": [
        {
          "output_type": "display_data",
          "data": {
            "image/png": "[encoded data removed]",
            "text/plain": [
              "<Figure size 432x288 with 1 Axes>"
            ]
          },
          "metadata": {
            "needs_background": "light"
          }
        },
        {
          "output_type": "display_data",
          "data": {
            "image/png": "[encoded data removed]",
            "text/plain": [
              "<Figure size 432x288 with 1 Axes>"
            ]
          },
          "metadata": {
            "needs_background": "light"
          }
        }
      ]
    }
  ]
}