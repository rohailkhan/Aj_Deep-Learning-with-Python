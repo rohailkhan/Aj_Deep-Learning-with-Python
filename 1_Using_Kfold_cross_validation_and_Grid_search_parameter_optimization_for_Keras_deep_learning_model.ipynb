{
  "nbformat": 4,
  "nbformat_minor": 0,
  "metadata": {
    "colab": {
      "name": "1- Using Kfold cross validation and Grid search parameter optimization for Keras deep learning model",
      "provenance": [],
      "authorship_tag": "ABX9TyPVABnB5Onb4tNq1hW07Rtf",
      "include_colab_link": true
    },
    "kernelspec": {
      "name": "python3",
      "display_name": "Python 3"
    },
    "language_info": {
      "name": "python"
    },
    "accelerator": "GPU"
  },
  "cells": [
    {
      "cell_type": "markdown",
      "metadata": {
        "id": "view-in-github",
        "colab_type": "text"
      },
      "source": [
        "<a href=\"https://colab.research.google.com/github/rohailkhan/Deep-Learning-with-Python-Jb/blob/master/1_Using_Kfold_cross_validation_and_Grid_search_parameter_optimization_for_Keras_deep_learning_model.ipynb\" target=\"_parent\"><img src=\"https://colab.research.google.com/assets/colab-badge.svg\" alt=\"Open In Colab\"/></a>"
      ]
    },
    {
      "cell_type": "code",
      "metadata": {
        "id": "Rqq26ffLMR-z"
      },
      "source": [
        "# MLP with automatic validation set\n",
        "from keras.models import Sequential\n",
        "from keras.optimizers import adam_v2\n",
        "from keras.layers import Dense,Conv2D, BatchNormalization,MaxPooling2D, ZeroPadding2D, GlobalAveragePooling2D, Flatten\n",
        "import numpy\n",
        "# fix random seed for reproducibility\n",
        "seed = 7\n",
        "import pandas as pd\n",
        "numpy.random.seed(seed)\n",
        "import matplotlib.pyplot as plt\n",
        "import seaborn as sns\n",
        "import numpy as np"
      ],
      "execution_count": 10,
      "outputs": []
    },
    {
      "cell_type": "code",
      "metadata": {
        "id": "kzCIJ3dQMwrk"
      },
      "source": [
        "data=(\"https://raw.githubusercontent.com/rohailkhan/data/main/diabetes.csv\")\n",
        "diabetics=pd.read_csv(data ,error_bad_lines=False) "
      ],
      "execution_count": 2,
      "outputs": []
    },
    {
      "cell_type": "code",
      "metadata": {
        "colab": {
          "base_uri": "https://localhost:8080/",
          "height": 143
        },
        "id": "_Onm7-g2N_hw",
        "outputId": "fdfe28df-e8ab-4328-b307-f7a2f230ac8f"
      },
      "source": [
        "diabetics.head(3)"
      ],
      "execution_count": 3,
      "outputs": [
        {
          "output_type": "execute_result",
          "data": {
            "text/html": [
              "<div>\n",
              "<style scoped>\n",
              "    .dataframe tbody tr th:only-of-type {\n",
              "        vertical-align: middle;\n",
              "    }\n",
              "\n",
              "    .dataframe tbody tr th {\n",
              "        vertical-align: top;\n",
              "    }\n",
              "\n",
              "    .dataframe thead th {\n",
              "        text-align: right;\n",
              "    }\n",
              "</style>\n",
              "<table border=\"1\" class=\"dataframe\">\n",
              "  <thead>\n",
              "    <tr style=\"text-align: right;\">\n",
              "      <th></th>\n",
              "      <th>Pregnancies</th>\n",
              "      <th>Glucose</th>\n",
              "      <th>BloodPressure</th>\n",
              "      <th>SkinThickness</th>\n",
              "      <th>Insulin</th>\n",
              "      <th>BMI</th>\n",
              "      <th>DiabetesPedigreeFunction</th>\n",
              "      <th>Age</th>\n",
              "      <th>Outcome</th>\n",
              "    </tr>\n",
              "  </thead>\n",
              "  <tbody>\n",
              "    <tr>\n",
              "      <th>0</th>\n",
              "      <td>6</td>\n",
              "      <td>148</td>\n",
              "      <td>72</td>\n",
              "      <td>35</td>\n",
              "      <td>0</td>\n",
              "      <td>33.6</td>\n",
              "      <td>0.627</td>\n",
              "      <td>50</td>\n",
              "      <td>1</td>\n",
              "    </tr>\n",
              "    <tr>\n",
              "      <th>1</th>\n",
              "      <td>1</td>\n",
              "      <td>85</td>\n",
              "      <td>66</td>\n",
              "      <td>29</td>\n",
              "      <td>0</td>\n",
              "      <td>26.6</td>\n",
              "      <td>0.351</td>\n",
              "      <td>31</td>\n",
              "      <td>0</td>\n",
              "    </tr>\n",
              "    <tr>\n",
              "      <th>2</th>\n",
              "      <td>8</td>\n",
              "      <td>183</td>\n",
              "      <td>64</td>\n",
              "      <td>0</td>\n",
              "      <td>0</td>\n",
              "      <td>23.3</td>\n",
              "      <td>0.672</td>\n",
              "      <td>32</td>\n",
              "      <td>1</td>\n",
              "    </tr>\n",
              "  </tbody>\n",
              "</table>\n",
              "</div>"
            ],
            "text/plain": [
              "   Pregnancies  Glucose  BloodPressure  ...  DiabetesPedigreeFunction  Age  Outcome\n",
              "0            6      148             72  ...                     0.627   50        1\n",
              "1            1       85             66  ...                     0.351   31        0\n",
              "2            8      183             64  ...                     0.672   32        1\n",
              "\n",
              "[3 rows x 9 columns]"
            ]
          },
          "metadata": {},
          "execution_count": 3
        }
      ]
    },
    {
      "cell_type": "code",
      "metadata": {
        "colab": {
          "base_uri": "https://localhost:8080/",
          "height": 299
        },
        "id": "2eCnbpSxRc0Y",
        "outputId": "6d93af04-d230-4353-92f9-ec9870e3d5c2"
      },
      "source": [
        "diabetics.describe()"
      ],
      "execution_count": 5,
      "outputs": [
        {
          "output_type": "execute_result",
          "data": {
            "text/html": [
              "<div>\n",
              "<style scoped>\n",
              "    .dataframe tbody tr th:only-of-type {\n",
              "        vertical-align: middle;\n",
              "    }\n",
              "\n",
              "    .dataframe tbody tr th {\n",
              "        vertical-align: top;\n",
              "    }\n",
              "\n",
              "    .dataframe thead th {\n",
              "        text-align: right;\n",
              "    }\n",
              "</style>\n",
              "<table border=\"1\" class=\"dataframe\">\n",
              "  <thead>\n",
              "    <tr style=\"text-align: right;\">\n",
              "      <th></th>\n",
              "      <th>Pregnancies</th>\n",
              "      <th>Glucose</th>\n",
              "      <th>BloodPressure</th>\n",
              "      <th>SkinThickness</th>\n",
              "      <th>Insulin</th>\n",
              "      <th>BMI</th>\n",
              "      <th>DiabetesPedigreeFunction</th>\n",
              "      <th>Age</th>\n",
              "      <th>Outcome</th>\n",
              "    </tr>\n",
              "  </thead>\n",
              "  <tbody>\n",
              "    <tr>\n",
              "      <th>count</th>\n",
              "      <td>768.000000</td>\n",
              "      <td>768.000000</td>\n",
              "      <td>768.000000</td>\n",
              "      <td>768.000000</td>\n",
              "      <td>768.000000</td>\n",
              "      <td>768.000000</td>\n",
              "      <td>768.000000</td>\n",
              "      <td>768.000000</td>\n",
              "      <td>768.000000</td>\n",
              "    </tr>\n",
              "    <tr>\n",
              "      <th>mean</th>\n",
              "      <td>3.845052</td>\n",
              "      <td>120.894531</td>\n",
              "      <td>69.105469</td>\n",
              "      <td>20.536458</td>\n",
              "      <td>79.799479</td>\n",
              "      <td>31.992578</td>\n",
              "      <td>0.471876</td>\n",
              "      <td>33.240885</td>\n",
              "      <td>0.348958</td>\n",
              "    </tr>\n",
              "    <tr>\n",
              "      <th>std</th>\n",
              "      <td>3.369578</td>\n",
              "      <td>31.972618</td>\n",
              "      <td>19.355807</td>\n",
              "      <td>15.952218</td>\n",
              "      <td>115.244002</td>\n",
              "      <td>7.884160</td>\n",
              "      <td>0.331329</td>\n",
              "      <td>11.760232</td>\n",
              "      <td>0.476951</td>\n",
              "    </tr>\n",
              "    <tr>\n",
              "      <th>min</th>\n",
              "      <td>0.000000</td>\n",
              "      <td>0.000000</td>\n",
              "      <td>0.000000</td>\n",
              "      <td>0.000000</td>\n",
              "      <td>0.000000</td>\n",
              "      <td>0.000000</td>\n",
              "      <td>0.078000</td>\n",
              "      <td>21.000000</td>\n",
              "      <td>0.000000</td>\n",
              "    </tr>\n",
              "    <tr>\n",
              "      <th>25%</th>\n",
              "      <td>1.000000</td>\n",
              "      <td>99.000000</td>\n",
              "      <td>62.000000</td>\n",
              "      <td>0.000000</td>\n",
              "      <td>0.000000</td>\n",
              "      <td>27.300000</td>\n",
              "      <td>0.243750</td>\n",
              "      <td>24.000000</td>\n",
              "      <td>0.000000</td>\n",
              "    </tr>\n",
              "    <tr>\n",
              "      <th>50%</th>\n",
              "      <td>3.000000</td>\n",
              "      <td>117.000000</td>\n",
              "      <td>72.000000</td>\n",
              "      <td>23.000000</td>\n",
              "      <td>30.500000</td>\n",
              "      <td>32.000000</td>\n",
              "      <td>0.372500</td>\n",
              "      <td>29.000000</td>\n",
              "      <td>0.000000</td>\n",
              "    </tr>\n",
              "    <tr>\n",
              "      <th>75%</th>\n",
              "      <td>6.000000</td>\n",
              "      <td>140.250000</td>\n",
              "      <td>80.000000</td>\n",
              "      <td>32.000000</td>\n",
              "      <td>127.250000</td>\n",
              "      <td>36.600000</td>\n",
              "      <td>0.626250</td>\n",
              "      <td>41.000000</td>\n",
              "      <td>1.000000</td>\n",
              "    </tr>\n",
              "    <tr>\n",
              "      <th>max</th>\n",
              "      <td>17.000000</td>\n",
              "      <td>199.000000</td>\n",
              "      <td>122.000000</td>\n",
              "      <td>99.000000</td>\n",
              "      <td>846.000000</td>\n",
              "      <td>67.100000</td>\n",
              "      <td>2.420000</td>\n",
              "      <td>81.000000</td>\n",
              "      <td>1.000000</td>\n",
              "    </tr>\n",
              "  </tbody>\n",
              "</table>\n",
              "</div>"
            ],
            "text/plain": [
              "       Pregnancies     Glucose  ...         Age     Outcome\n",
              "count   768.000000  768.000000  ...  768.000000  768.000000\n",
              "mean      3.845052  120.894531  ...   33.240885    0.348958\n",
              "std       3.369578   31.972618  ...   11.760232    0.476951\n",
              "min       0.000000    0.000000  ...   21.000000    0.000000\n",
              "25%       1.000000   99.000000  ...   24.000000    0.000000\n",
              "50%       3.000000  117.000000  ...   29.000000    0.000000\n",
              "75%       6.000000  140.250000  ...   41.000000    1.000000\n",
              "max      17.000000  199.000000  ...   81.000000    1.000000\n",
              "\n",
              "[8 rows x 9 columns]"
            ]
          },
          "metadata": {},
          "execution_count": 5
        }
      ]
    },
    {
      "cell_type": "code",
      "metadata": {
        "colab": {
          "base_uri": "https://localhost:8080/"
        },
        "id": "hms4yXIdX7bK",
        "outputId": "567e85bb-dfa4-4bf1-a6f3-37903f09d7f5"
      },
      "source": [
        "x=np.array([[0, 1, 2],\n",
        "       [3,4, 5],\n",
        "       [6, 7, 8]])\n",
        "np.ones_like(x)"
      ],
      "execution_count": 24,
      "outputs": [
        {
          "output_type": "execute_result",
          "data": {
            "text/plain": [
              "array([[1, 1, 1],\n",
              "       [1, 1, 1],\n",
              "       [1, 1, 1]])"
            ]
          },
          "metadata": {},
          "execution_count": 24
        }
      ]
    },
    {
      "cell_type": "code",
      "metadata": {
        "colab": {
          "base_uri": "https://localhost:8080/"
        },
        "id": "leGtLFywY_aH",
        "outputId": "f517bec1-5ce6-4044-97a1-7dbded488a3e"
      },
      "source": [
        "np.triu(x)"
      ],
      "execution_count": 25,
      "outputs": [
        {
          "output_type": "execute_result",
          "data": {
            "text/plain": [
              "array([[0, 1, 2],\n",
              "       [0, 4, 5],\n",
              "       [0, 0, 8]])"
            ]
          },
          "metadata": {},
          "execution_count": 25
        }
      ]
    },
    {
      "cell_type": "code",
      "metadata": {
        "colab": {
          "base_uri": "https://localhost:8080/"
        },
        "id": "4niw5CcPYKOl",
        "outputId": "9ec9c417-89d4-4c94-a4a3-33c602fedc84"
      },
      "source": [
        "y=np.array([0., 1., 2.])\n",
        "np.ones_like(y) "
      ],
      "execution_count": 21,
      "outputs": [
        {
          "output_type": "execute_result",
          "data": {
            "text/plain": [
              "array([1., 1., 1.])"
            ]
          },
          "metadata": {},
          "execution_count": 21
        }
      ]
    },
    {
      "cell_type": "code",
      "metadata": {
        "colab": {
          "base_uri": "https://localhost:8080/",
          "height": 656
        },
        "id": "7T7gxOaGXSmL",
        "outputId": "863bb761-e43f-476a-946c-6076288d55ee"
      },
      "source": [
        "plt.figure(dpi = 120,figsize= (5,4))\n",
        "# mask = np.triu(np.ones_like(diabetics.corr(),dtype = bool))\n",
        "sns.heatmap(diabetics.corr(), fmt = \".2f\",annot=True,lw=1,cmap = 'plasma')\n",
        "plt.yticks(rotation = 0)\n",
        "plt.xticks(rotation = 90)\n",
        "plt.title('Correlation Heatmap')\n",
        "plt.show()"
      ],
      "execution_count": 14,
      "outputs": [
        {
          "output_type": "display_data",
          "data": {
            "image/png": "[encoded data removed]",
            "text/plain": [
              "<Figure size 600x480 with 2 Axes>"
            ]
          },
          "metadata": {
            "needs_background": "light"
          }
        }
      ]
    },
    {
      "cell_type": "code",
      "metadata": {
        "colab": {
          "base_uri": "https://localhost:8080/",
          "height": 656
        },
        "id": "NeKNcTraaYeC",
        "outputId": "f1b1ec09-6282-44d9-e566-3c7d2a8e9927"
      },
      "source": [
        "plt.figure(dpi = 120,figsize= (5,4))\n",
        "mask = np.triu(np.ones_like(diabetics.corr()))\n",
        "sns.heatmap(diabetics.corr(),mask = mask, fmt = \".2f\",annot=True,lw=1,cmap = 'plasma')\n",
        "plt.yticks(rotation = 0)\n",
        "plt.xticks(rotation = 90)\n",
        "plt.title('Correlation Heatmap')\n",
        "plt.show()"
      ],
      "execution_count": 30,
      "outputs": [
        {
          "output_type": "display_data",
          "data": {
            "image/png": "[encoded data removed]",
            "text/plain": [
              "<Figure size 600x480 with 2 Axes>"
            ]
          },
          "metadata": {
            "needs_background": "light"
          }
        }
      ]
    },
    {
      "cell_type": "code",
      "metadata": {
        "id": "Ugwl-QUyRsU-"
      },
      "source": [
        "X=diabetics.iloc[:,0:8]\n",
        "y=diabetics.iloc[:,8:]"
      ],
      "execution_count": null,
      "outputs": []
    },
    {
      "cell_type": "code",
      "metadata": {
        "id": "syBuWh-0SbeE"
      },
      "source": [
        "from keras.models import Sequential\n",
        "from keras.layers import Dense\n",
        "from tensorflow.keras.optimizers import Adam"
      ],
      "execution_count": null,
      "outputs": []
    },
    {
      "cell_type": "code",
      "metadata": {
        "id": "MUXt93BLSfR9"
      },
      "source": [
        "model=Sequential()\n",
        "model.add(Dense(12,input_shape=(8,),activation='relu'))\n",
        "model.add(Dense(24,activation='relu'))\n",
        "model.add(Flatten())\n",
        "model.add(Dense(1,activation='sigmoid'))\n",
        "#compilation\n",
        "model.compile(loss='binary_crossentropy', optimizer=Adam(learning_rate=0.001), metrics=['accuracy'])\n"
      ],
      "execution_count": null,
      "outputs": []
    },
    {
      "cell_type": "code",
      "metadata": {
        "colab": {
          "base_uri": "https://localhost:8080/"
        },
        "id": "oIQMcAIAWZFb",
        "outputId": "e301bd9e-e7cc-425b-fd89-da39e1f28547"
      },
      "source": [
        "# Fit the model\n",
        "model.fit(X, y, validation_split=0.33, epochs=120, batch_size=10)"
      ],
      "execution_count": null,
      "outputs": [
        {
          "output_type": "stream",
          "text": [
            "Epoch 1/120\n",
            "52/52 [==============================] - 1s 5ms/step - loss: 10.4706 - accuracy: 0.6401 - val_loss: 5.0269 - val_accuracy: 0.6732\n",
            "Epoch 2/120\n",
            "52/52 [==============================] - 0s 2ms/step - loss: 2.7094 - accuracy: 0.5837 - val_loss: 1.4445 - val_accuracy: 0.5354\n",
            "Epoch 3/120\n",
            "52/52 [==============================] - 0s 2ms/step - loss: 0.9727 - accuracy: 0.5759 - val_loss: 0.9292 - val_accuracy: 0.5197\n",
            "Epoch 4/120\n",
            "52/52 [==============================] - 0s 2ms/step - loss: 0.8121 - accuracy: 0.5350 - val_loss: 0.8202 - val_accuracy: 0.5354\n",
            "Epoch 5/120\n",
            "52/52 [==============================] - 0s 2ms/step - loss: 0.7780 - accuracy: 0.5681 - val_loss: 0.7855 - val_accuracy: 0.5276\n",
            "Epoch 6/120\n",
            "52/52 [==============================] - 0s 2ms/step - loss: 0.7432 - accuracy: 0.5681 - val_loss: 0.7799 - val_accuracy: 0.5472\n",
            "Epoch 7/120\n",
            "52/52 [==============================] - 0s 2ms/step - loss: 0.7335 - accuracy: 0.6284 - val_loss: 0.7569 - val_accuracy: 0.5709\n",
            "Epoch 8/120\n",
            "52/52 [==============================] - 0s 3ms/step - loss: 0.7030 - accuracy: 0.6206 - val_loss: 0.7539 - val_accuracy: 0.5866\n",
            "Epoch 9/120\n",
            "52/52 [==============================] - 0s 2ms/step - loss: 0.6856 - accuracy: 0.6265 - val_loss: 0.7507 - val_accuracy: 0.5787\n",
            "Epoch 10/120\n",
            "52/52 [==============================] - 0s 3ms/step - loss: 0.7225 - accuracy: 0.6128 - val_loss: 0.6973 - val_accuracy: 0.6181\n",
            "Epoch 11/120\n",
            "52/52 [==============================] - 0s 3ms/step - loss: 0.6714 - accuracy: 0.6615 - val_loss: 0.6686 - val_accuracy: 0.6339\n",
            "Epoch 12/120\n",
            "52/52 [==============================] - 0s 3ms/step - loss: 0.6474 - accuracy: 0.6673 - val_loss: 0.6680 - val_accuracy: 0.6299\n",
            "Epoch 13/120\n",
            "52/52 [==============================] - 0s 2ms/step - loss: 0.6383 - accuracy: 0.6809 - val_loss: 0.6521 - val_accuracy: 0.6378\n",
            "Epoch 14/120\n",
            "52/52 [==============================] - 0s 2ms/step - loss: 0.6371 - accuracy: 0.6907 - val_loss: 0.7342 - val_accuracy: 0.5945\n",
            "Epoch 15/120\n",
            "52/52 [==============================] - 0s 2ms/step - loss: 0.6438 - accuracy: 0.6693 - val_loss: 0.6439 - val_accuracy: 0.6378\n",
            "Epoch 16/120\n",
            "52/52 [==============================] - 0s 2ms/step - loss: 0.6074 - accuracy: 0.6751 - val_loss: 0.6702 - val_accuracy: 0.6378\n",
            "Epoch 17/120\n",
            "52/52 [==============================] - 0s 2ms/step - loss: 0.6301 - accuracy: 0.6654 - val_loss: 0.6390 - val_accuracy: 0.6693\n",
            "Epoch 18/120\n",
            "52/52 [==============================] - 0s 2ms/step - loss: 0.6081 - accuracy: 0.6673 - val_loss: 0.6819 - val_accuracy: 0.6063\n",
            "Epoch 19/120\n",
            "52/52 [==============================] - 0s 3ms/step - loss: 0.6218 - accuracy: 0.6751 - val_loss: 0.6561 - val_accuracy: 0.6142\n",
            "Epoch 20/120\n",
            "52/52 [==============================] - 0s 2ms/step - loss: 0.6041 - accuracy: 0.6848 - val_loss: 0.6444 - val_accuracy: 0.6417\n",
            "Epoch 21/120\n",
            "52/52 [==============================] - 0s 2ms/step - loss: 0.6470 - accuracy: 0.6790 - val_loss: 0.6377 - val_accuracy: 0.6575\n",
            "Epoch 22/120\n",
            "52/52 [==============================] - 0s 2ms/step - loss: 0.6159 - accuracy: 0.6887 - val_loss: 0.6312 - val_accuracy: 0.6732\n",
            "Epoch 23/120\n",
            "52/52 [==============================] - 0s 3ms/step - loss: 0.5885 - accuracy: 0.6907 - val_loss: 0.6388 - val_accuracy: 0.6496\n",
            "Epoch 24/120\n",
            "52/52 [==============================] - 0s 2ms/step - loss: 0.5868 - accuracy: 0.6809 - val_loss: 0.6543 - val_accuracy: 0.6220\n",
            "Epoch 25/120\n",
            "52/52 [==============================] - 0s 2ms/step - loss: 0.5907 - accuracy: 0.6634 - val_loss: 0.6494 - val_accuracy: 0.6693\n",
            "Epoch 26/120\n",
            "52/52 [==============================] - 0s 2ms/step - loss: 0.5783 - accuracy: 0.7101 - val_loss: 0.6131 - val_accuracy: 0.7087\n",
            "Epoch 27/120\n",
            "52/52 [==============================] - 0s 3ms/step - loss: 0.5773 - accuracy: 0.6965 - val_loss: 0.6384 - val_accuracy: 0.6772\n",
            "Epoch 28/120\n",
            "52/52 [==============================] - 0s 2ms/step - loss: 0.5943 - accuracy: 0.6887 - val_loss: 0.6849 - val_accuracy: 0.6260\n",
            "Epoch 29/120\n",
            "52/52 [==============================] - 0s 5ms/step - loss: 0.5819 - accuracy: 0.6946 - val_loss: 0.6103 - val_accuracy: 0.6890\n",
            "Epoch 30/120\n",
            "52/52 [==============================] - 0s 3ms/step - loss: 0.5809 - accuracy: 0.7160 - val_loss: 0.6311 - val_accuracy: 0.6811\n",
            "Epoch 31/120\n",
            "52/52 [==============================] - 0s 2ms/step - loss: 0.5827 - accuracy: 0.7082 - val_loss: 0.6084 - val_accuracy: 0.6890\n",
            "Epoch 32/120\n",
            "52/52 [==============================] - 0s 2ms/step - loss: 0.5735 - accuracy: 0.7082 - val_loss: 0.6055 - val_accuracy: 0.6850\n",
            "Epoch 33/120\n",
            "52/52 [==============================] - 0s 2ms/step - loss: 0.5573 - accuracy: 0.7315 - val_loss: 0.6102 - val_accuracy: 0.7087\n",
            "Epoch 34/120\n",
            "52/52 [==============================] - 0s 2ms/step - loss: 0.5586 - accuracy: 0.7082 - val_loss: 0.6072 - val_accuracy: 0.6693\n",
            "Epoch 35/120\n",
            "52/52 [==============================] - 0s 2ms/step - loss: 0.5663 - accuracy: 0.7023 - val_loss: 0.6635 - val_accuracy: 0.6417\n",
            "Epoch 36/120\n",
            "52/52 [==============================] - 0s 2ms/step - loss: 0.5636 - accuracy: 0.7179 - val_loss: 0.6040 - val_accuracy: 0.7087\n",
            "Epoch 37/120\n",
            "52/52 [==============================] - 0s 2ms/step - loss: 0.5568 - accuracy: 0.7218 - val_loss: 0.6104 - val_accuracy: 0.6772\n",
            "Epoch 38/120\n",
            "52/52 [==============================] - 0s 2ms/step - loss: 0.5525 - accuracy: 0.7004 - val_loss: 0.6058 - val_accuracy: 0.6890\n",
            "Epoch 39/120\n",
            "52/52 [==============================] - 0s 2ms/step - loss: 0.5515 - accuracy: 0.7179 - val_loss: 0.6196 - val_accuracy: 0.7126\n",
            "Epoch 40/120\n",
            "52/52 [==============================] - 0s 2ms/step - loss: 0.5444 - accuracy: 0.7432 - val_loss: 0.6353 - val_accuracy: 0.6772\n",
            "Epoch 41/120\n",
            "52/52 [==============================] - 0s 3ms/step - loss: 0.5634 - accuracy: 0.7043 - val_loss: 0.6194 - val_accuracy: 0.6772\n",
            "Epoch 42/120\n",
            "52/52 [==============================] - 0s 2ms/step - loss: 0.5531 - accuracy: 0.6984 - val_loss: 0.6026 - val_accuracy: 0.6732\n",
            "Epoch 43/120\n",
            "52/52 [==============================] - 0s 3ms/step - loss: 0.5451 - accuracy: 0.7276 - val_loss: 0.6146 - val_accuracy: 0.6850\n",
            "Epoch 44/120\n",
            "52/52 [==============================] - 0s 2ms/step - loss: 0.5380 - accuracy: 0.7276 - val_loss: 0.6105 - val_accuracy: 0.6850\n",
            "Epoch 45/120\n",
            "52/52 [==============================] - 0s 2ms/step - loss: 0.5492 - accuracy: 0.7179 - val_loss: 0.5927 - val_accuracy: 0.6890\n",
            "Epoch 46/120\n",
            "52/52 [==============================] - 0s 2ms/step - loss: 0.5467 - accuracy: 0.7082 - val_loss: 0.5983 - val_accuracy: 0.6811\n",
            "Epoch 47/120\n",
            "52/52 [==============================] - 0s 2ms/step - loss: 0.5421 - accuracy: 0.7121 - val_loss: 0.5937 - val_accuracy: 0.6929\n",
            "Epoch 48/120\n",
            "52/52 [==============================] - 0s 3ms/step - loss: 0.5334 - accuracy: 0.7296 - val_loss: 0.6064 - val_accuracy: 0.6732\n",
            "Epoch 49/120\n",
            "52/52 [==============================] - 0s 3ms/step - loss: 0.5381 - accuracy: 0.7101 - val_loss: 0.6030 - val_accuracy: 0.7008\n",
            "Epoch 50/120\n",
            "52/52 [==============================] - 0s 2ms/step - loss: 0.5448 - accuracy: 0.7237 - val_loss: 0.6076 - val_accuracy: 0.7008\n",
            "Epoch 51/120\n",
            "52/52 [==============================] - 0s 2ms/step - loss: 0.5247 - accuracy: 0.7296 - val_loss: 0.5934 - val_accuracy: 0.7047\n",
            "Epoch 52/120\n",
            "52/52 [==============================] - 0s 2ms/step - loss: 0.5270 - accuracy: 0.7393 - val_loss: 0.6125 - val_accuracy: 0.6929\n",
            "Epoch 53/120\n",
            "52/52 [==============================] - 0s 3ms/step - loss: 0.5437 - accuracy: 0.7140 - val_loss: 0.5818 - val_accuracy: 0.7205\n",
            "Epoch 54/120\n",
            "52/52 [==============================] - 0s 2ms/step - loss: 0.5442 - accuracy: 0.7237 - val_loss: 0.5978 - val_accuracy: 0.7008\n",
            "Epoch 55/120\n",
            "52/52 [==============================] - 0s 3ms/step - loss: 0.5262 - accuracy: 0.7315 - val_loss: 0.6002 - val_accuracy: 0.6969\n",
            "Epoch 56/120\n",
            "52/52 [==============================] - 0s 2ms/step - loss: 0.5174 - accuracy: 0.7490 - val_loss: 0.5860 - val_accuracy: 0.6890\n",
            "Epoch 57/120\n",
            "52/52 [==============================] - 0s 3ms/step - loss: 0.5321 - accuracy: 0.7276 - val_loss: 0.5837 - val_accuracy: 0.7087\n",
            "Epoch 58/120\n",
            "52/52 [==============================] - 0s 2ms/step - loss: 0.5251 - accuracy: 0.7393 - val_loss: 0.5930 - val_accuracy: 0.7087\n",
            "Epoch 59/120\n",
            "52/52 [==============================] - 0s 2ms/step - loss: 0.5134 - accuracy: 0.7257 - val_loss: 0.5919 - val_accuracy: 0.7165\n",
            "Epoch 60/120\n",
            "52/52 [==============================] - 0s 2ms/step - loss: 0.5157 - accuracy: 0.7393 - val_loss: 0.6034 - val_accuracy: 0.7087\n",
            "Epoch 61/120\n",
            "52/52 [==============================] - 0s 2ms/step - loss: 0.5265 - accuracy: 0.7218 - val_loss: 0.5999 - val_accuracy: 0.7126\n",
            "Epoch 62/120\n",
            "52/52 [==============================] - 0s 3ms/step - loss: 0.5072 - accuracy: 0.7549 - val_loss: 0.5735 - val_accuracy: 0.7244\n",
            "Epoch 63/120\n",
            "52/52 [==============================] - 0s 2ms/step - loss: 0.5285 - accuracy: 0.7296 - val_loss: 0.5796 - val_accuracy: 0.7283\n",
            "Epoch 64/120\n",
            "52/52 [==============================] - 0s 2ms/step - loss: 0.5368 - accuracy: 0.7257 - val_loss: 0.6236 - val_accuracy: 0.7047\n",
            "Epoch 65/120\n",
            "52/52 [==============================] - 0s 3ms/step - loss: 0.5274 - accuracy: 0.7237 - val_loss: 0.5654 - val_accuracy: 0.7205\n",
            "Epoch 66/120\n",
            "52/52 [==============================] - 0s 3ms/step - loss: 0.5125 - accuracy: 0.7529 - val_loss: 0.5839 - val_accuracy: 0.7205\n",
            "Epoch 67/120\n",
            "52/52 [==============================] - 0s 2ms/step - loss: 0.5302 - accuracy: 0.7354 - val_loss: 0.5816 - val_accuracy: 0.7165\n",
            "Epoch 68/120\n",
            "52/52 [==============================] - 0s 2ms/step - loss: 0.5333 - accuracy: 0.7296 - val_loss: 0.6108 - val_accuracy: 0.7008\n",
            "Epoch 69/120\n",
            "52/52 [==============================] - 0s 2ms/step - loss: 0.5180 - accuracy: 0.7276 - val_loss: 0.5613 - val_accuracy: 0.7480\n",
            "Epoch 70/120\n",
            "52/52 [==============================] - 0s 2ms/step - loss: 0.5106 - accuracy: 0.7412 - val_loss: 0.5663 - val_accuracy: 0.7283\n",
            "Epoch 71/120\n",
            "52/52 [==============================] - 0s 2ms/step - loss: 0.5045 - accuracy: 0.7549 - val_loss: 0.5780 - val_accuracy: 0.7205\n",
            "Epoch 72/120\n",
            "52/52 [==============================] - 0s 2ms/step - loss: 0.5067 - accuracy: 0.7315 - val_loss: 0.5882 - val_accuracy: 0.7047\n",
            "Epoch 73/120\n",
            "52/52 [==============================] - 0s 2ms/step - loss: 0.5041 - accuracy: 0.7510 - val_loss: 0.5816 - val_accuracy: 0.7205\n",
            "Epoch 74/120\n",
            "52/52 [==============================] - 0s 3ms/step - loss: 0.5114 - accuracy: 0.7607 - val_loss: 0.5868 - val_accuracy: 0.7283\n",
            "Epoch 75/120\n",
            "52/52 [==============================] - 0s 2ms/step - loss: 0.4994 - accuracy: 0.7490 - val_loss: 0.6071 - val_accuracy: 0.7165\n",
            "Epoch 76/120\n",
            "52/52 [==============================] - 0s 2ms/step - loss: 0.5020 - accuracy: 0.7432 - val_loss: 0.6218 - val_accuracy: 0.7087\n",
            "Epoch 77/120\n",
            "52/52 [==============================] - 0s 2ms/step - loss: 0.5148 - accuracy: 0.7490 - val_loss: 0.5895 - val_accuracy: 0.7165\n",
            "Epoch 78/120\n",
            "52/52 [==============================] - 0s 2ms/step - loss: 0.5072 - accuracy: 0.7510 - val_loss: 0.6166 - val_accuracy: 0.7283\n",
            "Epoch 79/120\n",
            "52/52 [==============================] - 0s 3ms/step - loss: 0.5200 - accuracy: 0.7335 - val_loss: 0.5888 - val_accuracy: 0.7244\n",
            "Epoch 80/120\n",
            "52/52 [==============================] - 0s 2ms/step - loss: 0.5104 - accuracy: 0.7412 - val_loss: 0.5842 - val_accuracy: 0.7165\n",
            "Epoch 81/120\n",
            "52/52 [==============================] - 0s 3ms/step - loss: 0.4968 - accuracy: 0.7471 - val_loss: 0.5713 - val_accuracy: 0.7283\n",
            "Epoch 82/120\n",
            "52/52 [==============================] - 0s 3ms/step - loss: 0.4977 - accuracy: 0.7588 - val_loss: 0.5740 - val_accuracy: 0.7362\n",
            "Epoch 83/120\n",
            "52/52 [==============================] - 0s 3ms/step - loss: 0.5002 - accuracy: 0.7549 - val_loss: 0.5845 - val_accuracy: 0.7205\n",
            "Epoch 84/120\n",
            "52/52 [==============================] - 0s 2ms/step - loss: 0.4987 - accuracy: 0.7451 - val_loss: 0.5945 - val_accuracy: 0.7283\n",
            "Epoch 85/120\n",
            "52/52 [==============================] - 0s 2ms/step - loss: 0.4877 - accuracy: 0.7588 - val_loss: 0.5964 - val_accuracy: 0.7047\n",
            "Epoch 86/120\n",
            "52/52 [==============================] - 0s 2ms/step - loss: 0.5074 - accuracy: 0.7374 - val_loss: 0.5917 - val_accuracy: 0.7165\n",
            "Epoch 87/120\n",
            "52/52 [==============================] - 0s 2ms/step - loss: 0.4869 - accuracy: 0.7626 - val_loss: 0.5756 - val_accuracy: 0.7283\n",
            "Epoch 88/120\n",
            "52/52 [==============================] - 0s 3ms/step - loss: 0.4901 - accuracy: 0.7510 - val_loss: 0.5607 - val_accuracy: 0.7323\n",
            "Epoch 89/120\n",
            "52/52 [==============================] - 0s 3ms/step - loss: 0.5038 - accuracy: 0.7432 - val_loss: 0.5980 - val_accuracy: 0.7283\n",
            "Epoch 90/120\n",
            "52/52 [==============================] - 0s 2ms/step - loss: 0.4807 - accuracy: 0.7471 - val_loss: 0.5972 - val_accuracy: 0.7205\n",
            "Epoch 91/120\n",
            "52/52 [==============================] - 0s 3ms/step - loss: 0.5007 - accuracy: 0.7510 - val_loss: 0.5566 - val_accuracy: 0.7244\n",
            "Epoch 92/120\n",
            "52/52 [==============================] - 0s 2ms/step - loss: 0.5020 - accuracy: 0.7393 - val_loss: 0.5693 - val_accuracy: 0.7126\n",
            "Epoch 93/120\n",
            "52/52 [==============================] - 0s 2ms/step - loss: 0.4986 - accuracy: 0.7607 - val_loss: 0.5776 - val_accuracy: 0.7205\n",
            "Epoch 94/120\n",
            "52/52 [==============================] - 0s 2ms/step - loss: 0.4890 - accuracy: 0.7607 - val_loss: 0.5872 - val_accuracy: 0.7402\n",
            "Epoch 95/120\n",
            "52/52 [==============================] - 0s 2ms/step - loss: 0.4847 - accuracy: 0.7529 - val_loss: 0.5802 - val_accuracy: 0.7441\n",
            "Epoch 96/120\n",
            "52/52 [==============================] - 0s 3ms/step - loss: 0.4872 - accuracy: 0.7549 - val_loss: 0.5708 - val_accuracy: 0.7323\n",
            "Epoch 97/120\n",
            "52/52 [==============================] - 0s 2ms/step - loss: 0.4998 - accuracy: 0.7412 - val_loss: 0.5674 - val_accuracy: 0.7283\n",
            "Epoch 98/120\n",
            "52/52 [==============================] - 0s 2ms/step - loss: 0.4972 - accuracy: 0.7588 - val_loss: 0.5886 - val_accuracy: 0.7244\n",
            "Epoch 99/120\n",
            "52/52 [==============================] - 0s 3ms/step - loss: 0.4897 - accuracy: 0.7549 - val_loss: 0.5765 - val_accuracy: 0.7087\n",
            "Epoch 100/120\n",
            "52/52 [==============================] - 0s 2ms/step - loss: 0.4849 - accuracy: 0.7529 - val_loss: 0.5934 - val_accuracy: 0.7205\n",
            "Epoch 101/120\n",
            "52/52 [==============================] - 0s 2ms/step - loss: 0.4822 - accuracy: 0.7665 - val_loss: 0.6111 - val_accuracy: 0.7008\n",
            "Epoch 102/120\n",
            "52/52 [==============================] - 0s 3ms/step - loss: 0.4924 - accuracy: 0.7626 - val_loss: 0.6177 - val_accuracy: 0.6890\n",
            "Epoch 103/120\n",
            "52/52 [==============================] - 0s 2ms/step - loss: 0.5046 - accuracy: 0.7432 - val_loss: 0.5785 - val_accuracy: 0.7362\n",
            "Epoch 104/120\n",
            "52/52 [==============================] - 0s 2ms/step - loss: 0.5179 - accuracy: 0.7412 - val_loss: 0.6558 - val_accuracy: 0.6850\n",
            "Epoch 105/120\n",
            "52/52 [==============================] - 0s 2ms/step - loss: 0.4892 - accuracy: 0.7568 - val_loss: 0.5701 - val_accuracy: 0.7559\n",
            "Epoch 106/120\n",
            "52/52 [==============================] - 0s 2ms/step - loss: 0.4802 - accuracy: 0.7451 - val_loss: 0.5813 - val_accuracy: 0.7244\n",
            "Epoch 107/120\n",
            "52/52 [==============================] - 0s 2ms/step - loss: 0.4777 - accuracy: 0.7510 - val_loss: 0.5696 - val_accuracy: 0.7598\n",
            "Epoch 108/120\n",
            "52/52 [==============================] - 0s 2ms/step - loss: 0.4783 - accuracy: 0.7549 - val_loss: 0.6249 - val_accuracy: 0.7165\n",
            "Epoch 109/120\n",
            "52/52 [==============================] - 0s 3ms/step - loss: 0.4861 - accuracy: 0.7510 - val_loss: 0.5797 - val_accuracy: 0.7362\n",
            "Epoch 110/120\n",
            "52/52 [==============================] - 0s 2ms/step - loss: 0.4816 - accuracy: 0.7451 - val_loss: 0.5585 - val_accuracy: 0.7244\n",
            "Epoch 111/120\n",
            "52/52 [==============================] - 0s 2ms/step - loss: 0.4801 - accuracy: 0.7646 - val_loss: 0.5611 - val_accuracy: 0.7559\n",
            "Epoch 112/120\n",
            "52/52 [==============================] - 0s 3ms/step - loss: 0.4928 - accuracy: 0.7529 - val_loss: 0.5799 - val_accuracy: 0.7283\n",
            "Epoch 113/120\n",
            "52/52 [==============================] - 0s 2ms/step - loss: 0.4802 - accuracy: 0.7568 - val_loss: 0.5853 - val_accuracy: 0.7323\n",
            "Epoch 114/120\n",
            "52/52 [==============================] - 0s 3ms/step - loss: 0.4846 - accuracy: 0.7626 - val_loss: 0.5915 - val_accuracy: 0.7047\n",
            "Epoch 115/120\n",
            "52/52 [==============================] - 0s 2ms/step - loss: 0.4799 - accuracy: 0.7490 - val_loss: 0.5747 - val_accuracy: 0.7323\n",
            "Epoch 116/120\n",
            "52/52 [==============================] - 0s 2ms/step - loss: 0.4944 - accuracy: 0.7626 - val_loss: 0.5797 - val_accuracy: 0.7126\n",
            "Epoch 117/120\n",
            "52/52 [==============================] - 0s 2ms/step - loss: 0.4832 - accuracy: 0.7626 - val_loss: 0.5810 - val_accuracy: 0.7165\n",
            "Epoch 118/120\n",
            "52/52 [==============================] - 0s 2ms/step - loss: 0.4753 - accuracy: 0.7743 - val_loss: 0.6215 - val_accuracy: 0.7323\n",
            "Epoch 119/120\n",
            "52/52 [==============================] - 0s 2ms/step - loss: 0.4710 - accuracy: 0.7529 - val_loss: 0.5991 - val_accuracy: 0.7283\n",
            "Epoch 120/120\n",
            "52/52 [==============================] - 0s 2ms/step - loss: 0.4715 - accuracy: 0.7607 - val_loss: 0.5805 - val_accuracy: 0.7244\n"
          ],
          "name": "stdout"
        },
        {
          "output_type": "execute_result",
          "data": {
            "text/plain": [
              "<keras.callbacks.History at 0x7fe143876a50>"
            ]
          },
          "metadata": {},
          "execution_count": 82
        }
      ]
    },
    {
      "cell_type": "code",
      "metadata": {
        "colab": {
          "base_uri": "https://localhost:8080/"
        },
        "id": "VSkmeZSocC5Q",
        "outputId": "3027981e-76b1-420b-a345-fd430edad061"
      },
      "source": [
        "model.metrics_names"
      ],
      "execution_count": null,
      "outputs": [
        {
          "output_type": "execute_result",
          "data": {
            "text/plain": [
              "['loss', 'accuracy']"
            ]
          },
          "metadata": {},
          "execution_count": 83
        }
      ]
    },
    {
      "cell_type": "code",
      "metadata": {
        "colab": {
          "base_uri": "https://localhost:8080/"
        },
        "id": "hCgoZ9OVcV3c",
        "outputId": "49d99066-73d0-4350-c6e3-cdbd767275f3"
      },
      "source": [
        "scoress=model.evaluate(X,y)"
      ],
      "execution_count": null,
      "outputs": [
        {
          "output_type": "stream",
          "text": [
            "24/24 [==============================] - 0s 1ms/step - loss: 0.4983 - accuracy: 0.7500\n"
          ],
          "name": "stdout"
        }
      ]
    },
    {
      "cell_type": "code",
      "metadata": {
        "colab": {
          "base_uri": "https://localhost:8080/"
        },
        "id": "K49LSJE1chjn",
        "outputId": "5b1be430-c553-4d9e-9bfa-974ff22b285d"
      },
      "source": [
        "scoress[0], scoress[1]"
      ],
      "execution_count": null,
      "outputs": [
        {
          "output_type": "execute_result",
          "data": {
            "text/plain": [
              "(0.4983251392841339, 0.75)"
            ]
          },
          "metadata": {},
          "execution_count": 86
        }
      ]
    },
    {
      "cell_type": "markdown",
      "metadata": {
        "id": "X1ICsoafXwOd"
      },
      "source": [
        "## Using Kfold split for data"
      ]
    },
    {
      "cell_type": "code",
      "metadata": {
        "id": "Oa_EKsLkXz5u"
      },
      "source": [
        "from sklearn.model_selection import StratifiedKFold"
      ],
      "execution_count": null,
      "outputs": []
    },
    {
      "cell_type": "code",
      "metadata": {
        "id": "MqftwuplYDw9"
      },
      "source": [
        "# # our previous model\n",
        "# model=Sequential()\n",
        "# model.add(Dense(12,input_shape=(8,),activation='relu'))\n",
        "# model.add(Dense(24,activation='relu'))\n",
        "# model.add(Flatten())\n",
        "# model.add(Dense(1,activation='sigmoid'))\n",
        "# #compilation\n",
        "# model.compile(loss='binary_crossentropy', optimizer=Adam(learning_rate=0.001), metrics=['accuracy'])"
      ],
      "execution_count": null,
      "outputs": []
    },
    {
      "cell_type": "code",
      "metadata": {
        "id": "4aIWupduZxH6"
      },
      "source": [
        "seed = 7\n",
        "numpy.random.seed(seed)"
      ],
      "execution_count": null,
      "outputs": []
    },
    {
      "cell_type": "code",
      "metadata": {
        "id": "dxQo139PYHq6"
      },
      "source": [
        "# make a kfold split object\n",
        "kfold=StratifiedKFold(n_splits=10,shuffle=True,random_state=seed)"
      ],
      "execution_count": null,
      "outputs": []
    },
    {
      "cell_type": "code",
      "metadata": {
        "colab": {
          "base_uri": "https://localhost:8080/"
        },
        "id": "aouo8O5QaZxb",
        "outputId": "00829c24-3ef6-4ca1-d4a8-b6f0ea5d4fe4"
      },
      "source": [
        "for train,test in kfold.split(X,y):\n",
        "  print(len(train),len(test))"
      ],
      "execution_count": null,
      "outputs": [
        {
          "output_type": "stream",
          "text": [
            "691 77\n",
            "691 77\n",
            "691 77\n",
            "691 77\n",
            "691 77\n",
            "691 77\n",
            "691 77\n",
            "691 77\n",
            "692 76\n",
            "692 76\n"
          ],
          "name": "stdout"
        }
      ]
    },
    {
      "cell_type": "code",
      "metadata": {
        "colab": {
          "base_uri": "https://localhost:8080/"
        },
        "id": "JggyHrPCbf6d",
        "outputId": "514f662a-318a-4028-bcc3-6b5fb4aa85cc"
      },
      "source": [
        "model.metrics_names"
      ],
      "execution_count": null,
      "outputs": [
        {
          "output_type": "execute_result",
          "data": {
            "text/plain": [
              "['loss', 'accuracy']"
            ]
          },
          "metadata": {},
          "execution_count": 84
        }
      ]
    },
    {
      "cell_type": "code",
      "metadata": {
        "colab": {
          "base_uri": "https://localhost:8080/"
        },
        "id": "qrT3hVIOc4GK",
        "outputId": "5d3efde2-fc3c-4182-dbc1-eb26999e5be4"
      },
      "source": [
        "scoress[0], scoress[1]"
      ],
      "execution_count": null,
      "outputs": [
        {
          "output_type": "execute_result",
          "data": {
            "text/plain": [
              "(0.4983251392841339, 0.75)"
            ]
          },
          "metadata": {},
          "execution_count": 87
        }
      ]
    },
    {
      "cell_type": "code",
      "metadata": {
        "id": "tgM54dgcduhI"
      },
      "source": [
        "# split into input (X) and output (Y) variables\n",
        "X=diabetics.iloc[:,0:8]\n",
        "y=diabetics.iloc[:,8:]"
      ],
      "execution_count": null,
      "outputs": []
    },
    {
      "cell_type": "code",
      "metadata": {
        "id": "gtuzHI6ad_kc"
      },
      "source": [
        "import numpy as np\n",
        "X=np.array(X)\n",
        "y=np.array(y)"
      ],
      "execution_count": null,
      "outputs": []
    },
    {
      "cell_type": "code",
      "metadata": {
        "id": "yW6JSt1LZ1_T"
      },
      "source": [
        "cvscores = []\n",
        "for train,test in kfold.split(X,y):\n",
        "  model1=Sequential()\n",
        "  model1.add(Dense(12,input_shape=(8,),activation='relu'))\n",
        "  model1.add(Dense(24,activation='relu'))\n",
        "  model1.add(Flatten())\n",
        "  model1.add(Dense(1,activation='sigmoid'))\n",
        "  #compilation\n",
        "  model1.compile(loss='binary_crossentropy', optimizer=Adam(learning_rate=0.001), metrics=['accuracy'])\n",
        "  # Fit the model1 on Training data\n",
        "  model1.fit(X[train], y[train], validation_split=0.33, epochs=120, batch_size=10)\n",
        "  # evaluate the model1 on test data\n",
        "  scores2 = model1.evaluate(X[test], y[test], verbose=0)\n",
        "  print(\"%s : %.2f%%\" % (model1.metrics_names[1], scores2[1]*100))\n",
        "  cvscores.append(scores2[1]*100)"
      ],
      "execution_count": null,
      "outputs": []
    },
    {
      "cell_type": "code",
      "metadata": {
        "colab": {
          "base_uri": "https://localhost:8080/"
        },
        "id": "dDLcBei3fMKY",
        "outputId": "11ac8e59-f6be-4e62-f0ab-b6c41369f265"
      },
      "source": [
        "cvscores"
      ],
      "execution_count": null,
      "outputs": [
        {
          "output_type": "execute_result",
          "data": {
            "text/plain": [
              "[53.24675440788269,\n",
              " 75.32467246055603,\n",
              " 67.53246784210205,\n",
              " 74.02597665786743,\n",
              " 71.42857313156128,\n",
              " 62.337660789489746,\n",
              " 72.72727489471436,\n",
              " 72.72727489471436,\n",
              " 77.63158082962036,\n",
              " 77.63158082962036]"
            ]
          },
          "metadata": {},
          "execution_count": 98
        }
      ]
    },
    {
      "cell_type": "markdown",
      "metadata": {
        "id": "hPoLtFefghGj"
      },
      "source": [
        "# Optimize Deep Learning Model Parameters using **KerasClassifier** wrapper and **GridsearchCV**\n",
        "\n",
        "We will grid search of the following parameters to find the best values (for the estimator i.e our model)\n",
        "\n",
        "1.   optimizers ['rmsprop', 'adam']\n",
        "2.   initializer ['glorot_uniform', 'normal', 'uniform']\n",
        "3.   no of epochs numpy.array([50, 100, 150])\n",
        "4.   batches numpy.array([5, 10, 20])"
      ]
    },
    {
      "cell_type": "code",
      "metadata": {
        "id": "XmFziRQugi_f"
      },
      "source": [
        "from keras.layers import Dense\n",
        "from keras.wrappers.scikit_learn import KerasClassifier\n",
        "from sklearn.model_selection import GridSearchCV\n",
        "import numpy as np\n"
      ],
      "execution_count": null,
      "outputs": []
    },
    {
      "cell_type": "code",
      "metadata": {
        "id": "9go_PaM0l3dE"
      },
      "source": [
        "data=(\"https://raw.githubusercontent.com/rohailkhan/data/main/diabetes.csv\")\n",
        "diabetics=pd.read_csv(data ,error_bad_lines=False) "
      ],
      "execution_count": null,
      "outputs": []
    },
    {
      "cell_type": "code",
      "metadata": {
        "id": "BR0fJCE1vk4z"
      },
      "source": [
        "#model function without training\n",
        "def mymodel(optimizer='adam', kernel_initializer='glorot_uniform'):\n",
        "  model1=Sequential()\n",
        "  model1.add(Dense(12,input_shape=(8,),activation='relu',kernel_initializer='glorot_uniform'))\n",
        "  model1.add(Dense(24,activation='relu'))\n",
        "  model1.add(Flatten())\n",
        "  model1.add(Dense(1,activation='sigmoid'))\n",
        "  #compilation\n",
        "  model1.compile(optimizer='adam', loss='binary_crossentropy',  metrics=['accuracy'])\n",
        "  #classifier.compile(optimizer='adam', loss='binary_crossentropy',  metrics=['accuracy'])\n",
        "  return model1\n",
        "# fix random seed for reproducibility\n",
        "seed = 7\n",
        "numpy.random.seed(seed)\n",
        "X=np.array(diabetics.iloc[:,0:8])\n",
        "y=np.array(diabetics.iloc[:,8])"
      ],
      "execution_count": null,
      "outputs": []
    },
    {
      "cell_type": "code",
      "metadata": {
        "id": "9XdleZIRxc0l"
      },
      "source": [
        "# create model\n",
        "model = KerasClassifier(build_fn=mymodel, verbose=0)"
      ],
      "execution_count": null,
      "outputs": []
    },
    {
      "cell_type": "markdown",
      "metadata": {
        "id": "UbsrIR1pxrgx"
      },
      "source": [
        "## grid search epochs, batch size and optimizer"
      ]
    },
    {
      "cell_type": "code",
      "metadata": {
        "id": "3nTl22yMxvkp"
      },
      "source": [
        "optimizers = ['rmsprop', 'adam']\n",
        "kernel_initializer = ['glorot_uniform', 'normal', ]\n",
        "epochs = numpy.array([50, 100])\n",
        "batches = numpy.array([5, 10])\n",
        "param_grid = dict(optimizer=optimizers, nb_epoch=epochs, batch_size=batches, kernel_initializer=kernel_initializer)"
      ],
      "execution_count": null,
      "outputs": []
    },
    {
      "cell_type": "code",
      "metadata": {
        "id": "RNP7WpaVx_pO"
      },
      "source": [
        "grid = GridSearchCV(estimator=model, param_grid=param_grid)\n",
        "grid_result = grid.fit(X, y)"
      ],
      "execution_count": null,
      "outputs": []
    },
    {
      "cell_type": "markdown",
      "metadata": {
        "id": "YrrrAYTRpvCb"
      },
      "source": [
        "# **The Selected Final model after grid search**"
      ]
    },
    {
      "cell_type": "code",
      "metadata": {
        "id": "pBwhzY0kpaYa"
      },
      "source": [
        "final_model=grid_result.best_estimator_"
      ],
      "execution_count": null,
      "outputs": []
    },
    {
      "cell_type": "markdown",
      "metadata": {
        "id": "kuOCgmOzo-mS"
      },
      "source": [
        "## Best Parameter set & Best score from the grid search after Training"
      ]
    },
    {
      "cell_type": "code",
      "metadata": {
        "id": "DCk31sdQmFvi"
      },
      "source": [
        "results=pd.DataFrame(grid_result.cv_results_)"
      ],
      "execution_count": null,
      "outputs": []
    },
    {
      "cell_type": "code",
      "metadata": {
        "colab": {
          "base_uri": "https://localhost:8080/"
        },
        "id": "S35jAjZrss3X",
        "outputId": "e8e3ca33-347a-43ed-aed9-e2370f250e05"
      },
      "source": [
        "results.columns"
      ],
      "execution_count": null,
      "outputs": [
        {
          "output_type": "execute_result",
          "data": {
            "text/plain": [
              "Index(['mean_fit_time', 'std_fit_time', 'mean_score_time', 'std_score_time',\n",
              "       'param_batch_size', 'param_kernel_initializer', 'param_nb_epoch',\n",
              "       'param_optimizer', 'params', 'split0_test_score', 'split1_test_score',\n",
              "       'split2_test_score', 'split3_test_score', 'split4_test_score',\n",
              "       'mean_test_score', 'std_test_score', 'rank_test_score'],\n",
              "      dtype='object')"
            ]
          },
          "metadata": {},
          "execution_count": 34
        }
      ]
    },
    {
      "cell_type": "code",
      "metadata": {
        "colab": {
          "base_uri": "https://localhost:8080/",
          "height": 391
        },
        "id": "vAEqoXgKnrzh",
        "outputId": "7034754c-9893-43c5-e590-f3bb46d9ccca"
      },
      "source": [
        "results.head()"
      ],
      "execution_count": null,
      "outputs": [
        {
          "output_type": "execute_result",
          "data": {
            "text/html": [
              "<div>\n",
              "<style scoped>\n",
              "    .dataframe tbody tr th:only-of-type {\n",
              "        vertical-align: middle;\n",
              "    }\n",
              "\n",
              "    .dataframe tbody tr th {\n",
              "        vertical-align: top;\n",
              "    }\n",
              "\n",
              "    .dataframe thead th {\n",
              "        text-align: right;\n",
              "    }\n",
              "</style>\n",
              "<table border=\"1\" class=\"dataframe\">\n",
              "  <thead>\n",
              "    <tr style=\"text-align: right;\">\n",
              "      <th></th>\n",
              "      <th>mean_fit_time</th>\n",
              "      <th>std_fit_time</th>\n",
              "      <th>mean_score_time</th>\n",
              "      <th>std_score_time</th>\n",
              "      <th>param_batch_size</th>\n",
              "      <th>param_kernel_initializer</th>\n",
              "      <th>param_nb_epoch</th>\n",
              "      <th>param_optimizer</th>\n",
              "      <th>params</th>\n",
              "      <th>split0_test_score</th>\n",
              "      <th>split1_test_score</th>\n",
              "      <th>split2_test_score</th>\n",
              "      <th>split3_test_score</th>\n",
              "      <th>split4_test_score</th>\n",
              "      <th>mean_test_score</th>\n",
              "      <th>std_test_score</th>\n",
              "      <th>rank_test_score</th>\n",
              "    </tr>\n",
              "  </thead>\n",
              "  <tbody>\n",
              "    <tr>\n",
              "      <th>0</th>\n",
              "      <td>3.091995</td>\n",
              "      <td>4.306437</td>\n",
              "      <td>0.212091</td>\n",
              "      <td>0.009984</td>\n",
              "      <td>5</td>\n",
              "      <td>glorot_uniform</td>\n",
              "      <td>50</td>\n",
              "      <td>rmsprop</td>\n",
              "      <td>{'batch_size': 5, 'kernel_initializer': 'gloro...</td>\n",
              "      <td>0.662338</td>\n",
              "      <td>0.623377</td>\n",
              "      <td>0.532468</td>\n",
              "      <td>0.542484</td>\n",
              "      <td>0.607843</td>\n",
              "      <td>0.593702</td>\n",
              "      <td>0.049324</td>\n",
              "      <td>8</td>\n",
              "    </tr>\n",
              "    <tr>\n",
              "      <th>1</th>\n",
              "      <td>0.878450</td>\n",
              "      <td>0.159603</td>\n",
              "      <td>0.209113</td>\n",
              "      <td>0.002046</td>\n",
              "      <td>5</td>\n",
              "      <td>glorot_uniform</td>\n",
              "      <td>50</td>\n",
              "      <td>adam</td>\n",
              "      <td>{'batch_size': 5, 'kernel_initializer': 'gloro...</td>\n",
              "      <td>0.558442</td>\n",
              "      <td>0.532468</td>\n",
              "      <td>0.519481</td>\n",
              "      <td>0.686275</td>\n",
              "      <td>0.588235</td>\n",
              "      <td>0.576980</td>\n",
              "      <td>0.059503</td>\n",
              "      <td>12</td>\n",
              "    </tr>\n",
              "    <tr>\n",
              "      <th>2</th>\n",
              "      <td>0.971645</td>\n",
              "      <td>0.181103</td>\n",
              "      <td>0.255883</td>\n",
              "      <td>0.107167</td>\n",
              "      <td>5</td>\n",
              "      <td>glorot_uniform</td>\n",
              "      <td>100</td>\n",
              "      <td>rmsprop</td>\n",
              "      <td>{'batch_size': 5, 'kernel_initializer': 'gloro...</td>\n",
              "      <td>0.642857</td>\n",
              "      <td>0.616883</td>\n",
              "      <td>0.577922</td>\n",
              "      <td>0.509804</td>\n",
              "      <td>0.594771</td>\n",
              "      <td>0.588448</td>\n",
              "      <td>0.044955</td>\n",
              "      <td>9</td>\n",
              "    </tr>\n",
              "    <tr>\n",
              "      <th>3</th>\n",
              "      <td>0.993382</td>\n",
              "      <td>0.210157</td>\n",
              "      <td>0.208048</td>\n",
              "      <td>0.015812</td>\n",
              "      <td>5</td>\n",
              "      <td>glorot_uniform</td>\n",
              "      <td>100</td>\n",
              "      <td>adam</td>\n",
              "      <td>{'batch_size': 5, 'kernel_initializer': 'gloro...</td>\n",
              "      <td>0.668831</td>\n",
              "      <td>0.642857</td>\n",
              "      <td>0.655844</td>\n",
              "      <td>0.705882</td>\n",
              "      <td>0.601307</td>\n",
              "      <td>0.654944</td>\n",
              "      <td>0.034092</td>\n",
              "      <td>1</td>\n",
              "    </tr>\n",
              "    <tr>\n",
              "      <th>4</th>\n",
              "      <td>1.085150</td>\n",
              "      <td>0.247837</td>\n",
              "      <td>0.213419</td>\n",
              "      <td>0.008408</td>\n",
              "      <td>5</td>\n",
              "      <td>normal</td>\n",
              "      <td>50</td>\n",
              "      <td>rmsprop</td>\n",
              "      <td>{'batch_size': 5, 'kernel_initializer': 'norma...</td>\n",
              "      <td>0.629870</td>\n",
              "      <td>0.590909</td>\n",
              "      <td>0.558442</td>\n",
              "      <td>0.601307</td>\n",
              "      <td>0.535948</td>\n",
              "      <td>0.583295</td>\n",
              "      <td>0.032897</td>\n",
              "      <td>11</td>\n",
              "    </tr>\n",
              "  </tbody>\n",
              "</table>\n",
              "</div>"
            ],
            "text/plain": [
              "   mean_fit_time  std_fit_time  ...  std_test_score  rank_test_score\n",
              "0       3.091995      4.306437  ...        0.049324                8\n",
              "1       0.878450      0.159603  ...        0.059503               12\n",
              "2       0.971645      0.181103  ...        0.044955                9\n",
              "3       0.993382      0.210157  ...        0.034092                1\n",
              "4       1.085150      0.247837  ...        0.032897               11\n",
              "\n",
              "[5 rows x 17 columns]"
            ]
          },
          "metadata": {},
          "execution_count": 12
        }
      ]
    },
    {
      "cell_type": "markdown",
      "metadata": {
        "id": "osovuxklunWW"
      },
      "source": [
        "## Getting best model parameters from the dataframe of results"
      ]
    },
    {
      "cell_type": "code",
      "metadata": {
        "colab": {
          "base_uri": "https://localhost:8080/",
          "height": 134
        },
        "id": "5fZqdR1rtq3y",
        "outputId": "6c067032-9250-4aff-be5c-60da0a8c5dfb"
      },
      "source": [
        "results.sort_values(by='mean_test_score',ascending=False).iloc[0:1]"
      ],
      "execution_count": null,
      "outputs": [
        {
          "output_type": "execute_result",
          "data": {
            "text/html": [
              "<div>\n",
              "<style scoped>\n",
              "    .dataframe tbody tr th:only-of-type {\n",
              "        vertical-align: middle;\n",
              "    }\n",
              "\n",
              "    .dataframe tbody tr th {\n",
              "        vertical-align: top;\n",
              "    }\n",
              "\n",
              "    .dataframe thead th {\n",
              "        text-align: right;\n",
              "    }\n",
              "</style>\n",
              "<table border=\"1\" class=\"dataframe\">\n",
              "  <thead>\n",
              "    <tr style=\"text-align: right;\">\n",
              "      <th></th>\n",
              "      <th>mean_fit_time</th>\n",
              "      <th>std_fit_time</th>\n",
              "      <th>mean_score_time</th>\n",
              "      <th>std_score_time</th>\n",
              "      <th>param_batch_size</th>\n",
              "      <th>param_kernel_initializer</th>\n",
              "      <th>param_nb_epoch</th>\n",
              "      <th>param_optimizer</th>\n",
              "      <th>params</th>\n",
              "      <th>split0_test_score</th>\n",
              "      <th>split1_test_score</th>\n",
              "      <th>split2_test_score</th>\n",
              "      <th>split3_test_score</th>\n",
              "      <th>split4_test_score</th>\n",
              "      <th>mean_test_score</th>\n",
              "      <th>std_test_score</th>\n",
              "      <th>rank_test_score</th>\n",
              "    </tr>\n",
              "  </thead>\n",
              "  <tbody>\n",
              "    <tr>\n",
              "      <th>3</th>\n",
              "      <td>0.993382</td>\n",
              "      <td>0.210157</td>\n",
              "      <td>0.208048</td>\n",
              "      <td>0.015812</td>\n",
              "      <td>5</td>\n",
              "      <td>glorot_uniform</td>\n",
              "      <td>100</td>\n",
              "      <td>adam</td>\n",
              "      <td>{'batch_size': 5, 'kernel_initializer': 'gloro...</td>\n",
              "      <td>0.668831</td>\n",
              "      <td>0.642857</td>\n",
              "      <td>0.655844</td>\n",
              "      <td>0.705882</td>\n",
              "      <td>0.601307</td>\n",
              "      <td>0.654944</td>\n",
              "      <td>0.034092</td>\n",
              "      <td>1</td>\n",
              "    </tr>\n",
              "  </tbody>\n",
              "</table>\n",
              "</div>"
            ],
            "text/plain": [
              "   mean_fit_time  std_fit_time  ...  std_test_score  rank_test_score\n",
              "3       0.993382      0.210157  ...        0.034092                1\n",
              "\n",
              "[1 rows x 17 columns]"
            ]
          },
          "metadata": {},
          "execution_count": 42
        }
      ]
    },
    {
      "cell_type": "markdown",
      "metadata": {
        "id": "IecZDihEu099"
      },
      "source": [
        ""
      ]
    },
    {
      "cell_type": "markdown",
      "metadata": {
        "id": "yuinNAeLsjZe"
      },
      "source": [
        "## Getting best model parameters using .best_params_\n",
        "### Note: .best_params gives you the mean-test-score"
      ]
    },
    {
      "cell_type": "code",
      "metadata": {
        "colab": {
          "base_uri": "https://localhost:8080/"
        },
        "id": "S9K8XiofpInu",
        "outputId": "7b4fafca-3582-46e7-b7e2-f7ba8830e690"
      },
      "source": [
        "grid_result.best_params_  , grid_result.best_score_"
      ],
      "execution_count": null,
      "outputs": [
        {
          "output_type": "execute_result",
          "data": {
            "text/plain": [
              "({'batch_size': 5,\n",
              "  'kernel_initializer': 'glorot_uniform',\n",
              "  'nb_epoch': 100,\n",
              "  'optimizer': 'adam'},\n",
              " 0.6549444079399109)"
            ]
          },
          "metadata": {},
          "execution_count": 20
        }
      ]
    }
  ]
}